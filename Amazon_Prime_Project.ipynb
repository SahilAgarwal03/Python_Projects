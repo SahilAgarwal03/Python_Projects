{
  "nbformat": 4,
  "nbformat_minor": 0,
  "metadata": {
    "colab": {
      "private_outputs": true,
      "provenance": [],
      "collapsed_sections": [
        "MSa1f5Uengrz",
        "gIfDvo9L0UH2"
      ],
      "include_colab_link": true
    },
    "kernelspec": {
      "name": "python3",
      "display_name": "Python 3"
    },
    "language_info": {
      "name": "python"
    }
  },
  "cells": [
    {
      "cell_type": "markdown",
      "metadata": {
        "id": "view-in-github",
        "colab_type": "text"
      },
      "source": [
        "<a href=\"https://colab.research.google.com/github/SahilAgarwal03/Python_Projects/blob/main/Amazon_Prime_Project.ipynb\" target=\"_parent\"><img src=\"https://colab.research.google.com/assets/colab-badge.svg\" alt=\"Open In Colab\"/></a>"
      ]
    },
    {
      "cell_type": "markdown",
      "source": [
        "# **Project Name**    - Amazon Prime Video EDA\n",
        "\n",
        "\n",
        "\n",
        "\n"
      ],
      "metadata": {
        "id": "vncDsAP0Gaoa"
      }
    },
    {
      "cell_type": "markdown",
      "source": [
        "##### **Project Type**    - EDA\n",
        "##### **Contribution**    - Individual\n",
        "##### **Team Member  -** Sahil Agarwal\n"
      ],
      "metadata": {
        "id": "beRrZCGUAJYm"
      }
    },
    {
      "cell_type": "markdown",
      "source": [
        "# **Project Summary -**"
      ],
      "metadata": {
        "id": "FJNUwmbgGyua"
      }
    },
    {
      "cell_type": "markdown",
      "source": [
        "The dataset contains detailed information about Movies and TV Shows available on Amazon Prime. It includes 15 variables such as title, type, release year, runtime, genre, country of production, and audience ratings from IMDb and TMDb. The dataset allows analysis of content trends over time, audience preferences, and content quality. It helps identify the most popular and highly-rated titles across various genres and countries. Overall, it is well-suited for both descriptive and comparative entertainment analytics."
      ],
      "metadata": {
        "id": "F6v_1wHtG2nS"
      }
    },
    {
      "cell_type": "markdown",
      "source": [
        "# **GitHub Link -**"
      ],
      "metadata": {
        "id": "w6K7xa23Elo4"
      }
    },
    {
      "cell_type": "markdown",
      "source": [
        "https://github.com/SahilAgarwal03"
      ],
      "metadata": {
        "id": "h1o69JH3Eqqn"
      }
    },
    {
      "cell_type": "markdown",
      "source": [
        "# **Problem Statement**\n"
      ],
      "metadata": {
        "id": "yQaldy8SH6Dl"
      }
    },
    {
      "cell_type": "markdown",
      "source": [
        "The primary objective of this project is to perform Exploratory Data Analysis (EDA) on the Amazon Prime dataset to uncover meaningful insights about the platform's content library. The analysis will focus on identifying:\n",
        "\n",
        "1. The type of content available (Movies vs TV Shows).\n",
        "\n",
        "2. The top countries producing content on Amazon Prime.\n",
        "\n",
        "3. The most common genres offered.\n",
        "\n",
        "4. The distribution of content across different release years.\n",
        "\n",
        "5. The top actors and directors featured in Amazon Prime titles.\n",
        "\n",
        "This analysis aims to provide a comprehensive overview of the platform’s offerings and highlight key trends in its content catalog."
      ],
      "metadata": {
        "id": "DpeJGUA3kjGy"
      }
    },
    {
      "cell_type": "markdown",
      "source": [
        "#### **Define Your Business Objective?**"
      ],
      "metadata": {
        "id": "PH-0ReGfmX4f"
      }
    },
    {
      "cell_type": "markdown",
      "source": [
        "Answer Here."
      ],
      "metadata": {
        "id": "PhDvGCAqmjP1"
      }
    },
    {
      "cell_type": "markdown",
      "source": [
        "# **General Guidelines** : -  "
      ],
      "metadata": {
        "id": "mDgbUHAGgjLW"
      }
    },
    {
      "cell_type": "markdown",
      "source": [
        "1.   Well-structured, formatted, and commented code is required.\n",
        "2.   Exception Handling, Production Grade Code & Deployment Ready Code will be a plus. Those students will be awarded some additional credits.\n",
        "     \n",
        "     The additional credits will have advantages over other students during Star Student selection.\n",
        "       \n",
        "             [ Note: - Deployment Ready Code is defined as, the whole .ipynb notebook should be executable in one go\n",
        "                       without a single error logged. ]\n",
        "\n",
        "3.   Each and every logic should have proper comments.\n",
        "4. You may add as many number of charts you want. Make Sure for each and every chart the following format should be answered.\n",
        "        \n",
        "\n",
        "```\n",
        "# Chart visualization code\n",
        "```\n",
        "            \n",
        "\n",
        "*   Why did you pick the specific chart?\n",
        "*   What is/are the insight(s) found from the chart?\n",
        "* Will the gained insights help creating a positive business impact?\n",
        "Are there any insights that lead to negative growth? Justify with specific reason.\n",
        "\n",
        "5. You have to create at least 20 logical & meaningful charts having important insights.\n",
        "\n",
        "\n",
        "[ Hints : - Do the Vizualization in  a structured way while following \"UBM\" Rule.\n",
        "\n",
        "U - Univariate Analysis,\n",
        "\n",
        "B - Bivariate Analysis (Numerical - Categorical, Numerical - Numerical, Categorical - Categorical)\n",
        "\n",
        "M - Multivariate Analysis\n",
        " ]\n",
        "\n",
        "\n",
        "\n"
      ],
      "metadata": {
        "id": "ZrxVaUj-hHfC"
      }
    },
    {
      "cell_type": "markdown",
      "source": [
        "# ***Let's Begin !***"
      ],
      "metadata": {
        "id": "O_i_v8NEhb9l"
      }
    },
    {
      "cell_type": "markdown",
      "source": [
        "## ***1. Know Your Data***"
      ],
      "metadata": {
        "id": "HhfV-JJviCcP"
      }
    },
    {
      "cell_type": "markdown",
      "source": [
        "### Import Libraries"
      ],
      "metadata": {
        "id": "Y3lxredqlCYt"
      }
    },
    {
      "cell_type": "code",
      "source": [
        "# Import Libraries\n",
        "import pandas as pd\n",
        "from IPython.display import display\n",
        "import matplotlib.pyplot as plt\n",
        "import ast\n",
        "import plotly.express as px\n",
        "import seaborn as sns"
      ],
      "metadata": {
        "id": "M8Vqi-pPk-HR"
      },
      "execution_count": null,
      "outputs": []
    },
    {
      "cell_type": "markdown",
      "source": [
        "### Dataset Loading"
      ],
      "metadata": {
        "id": "3RnN4peoiCZX"
      }
    },
    {
      "cell_type": "code",
      "source": [
        "# Load Datasets\n",
        "from google.colab import drive\n",
        "drive.mount('/content/drive')\n",
        "titles = pd.read_csv('/content/drive/My Drive/Amazon Prime Project/titles.csv')\n",
        "credits = pd.read_csv('/content/drive/My Drive/Amazon Prime Project/credits.csv')"
      ],
      "metadata": {
        "id": "4CkvbW_SlZ_R"
      },
      "execution_count": null,
      "outputs": []
    },
    {
      "cell_type": "markdown",
      "source": [
        "### Dataset First View"
      ],
      "metadata": {
        "id": "x71ZqKXriCWQ"
      }
    },
    {
      "cell_type": "code",
      "source": [
        "# Dataset First Look\n",
        "display(titles.head())\n",
        "display(credits.head())"
      ],
      "metadata": {
        "id": "LWNFOSvLl09H"
      },
      "execution_count": null,
      "outputs": []
    },
    {
      "cell_type": "markdown",
      "source": [
        "### Dataset Rows & Columns count"
      ],
      "metadata": {
        "id": "7hBIi_osiCS2"
      }
    },
    {
      "cell_type": "code",
      "source": [
        "# Dataset Rows & Columns Count\n",
        "print(\"Number of rows and columns in Titles dataset:\", titles.shape)\n",
        "print(\"Number of rows and columns in Credits:\", credits.shape)"
      ],
      "metadata": {
        "id": "Kllu7SJgmLij"
      },
      "execution_count": null,
      "outputs": []
    },
    {
      "cell_type": "markdown",
      "source": [
        "### Dataset Information"
      ],
      "metadata": {
        "id": "JlHwYmJAmNHm"
      }
    },
    {
      "cell_type": "code",
      "source": [
        "# Dataset Info\n",
        "titles.info()\n",
        "credits.info()"
      ],
      "metadata": {
        "id": "e9hRXRi6meOf"
      },
      "execution_count": null,
      "outputs": []
    },
    {
      "cell_type": "markdown",
      "source": [
        "#### Duplicate Values"
      ],
      "metadata": {
        "id": "35m5QtbWiB9F"
      }
    },
    {
      "cell_type": "code",
      "source": [
        "# Dataset Duplicate Value Count\n",
        "display(titles.duplicated().sum())\n",
        "display(credits.duplicated().sum())"
      ],
      "metadata": {
        "id": "1sLdpKYkmox0"
      },
      "execution_count": null,
      "outputs": []
    },
    {
      "cell_type": "markdown",
      "source": [
        "#### Missing Values/Null Values"
      ],
      "metadata": {
        "id": "PoPl-ycgm1ru"
      }
    },
    {
      "cell_type": "code",
      "source": [
        "# Missing Values/Null Values Count\n",
        "display(titles.isnull().sum())\n",
        "display(credits.isnull().sum())"
      ],
      "metadata": {
        "id": "GgHWkxvamxVg"
      },
      "execution_count": null,
      "outputs": []
    },
    {
      "cell_type": "markdown",
      "source": [
        "### What did you know about your dataset?"
      ],
      "metadata": {
        "id": "H0kj-8xxnORC"
      }
    },
    {
      "cell_type": "markdown",
      "source": [
        "There are 2 different csv files and they contain specific columns that are:\n",
        "\n",
        "\n",
        "id:\tUnique identifier for each title (movie or show)\n",
        "\n",
        "title:\tName of the movie or TV show\n",
        "\n",
        "type:\tIndicates whether the title is a MOVIE or a SHOW\n",
        "\n",
        "description:\tA short summary or plot of the content\n",
        "\n",
        "release_year:\tThe year the movie or show was released\n",
        "\n",
        "age_certification:\tContent rating (e.g., PG, TV-14, R) based on age appropriateness\n",
        "\n",
        "runtime:\tDuration of the movie or an episode of a show in minutes\n",
        "\n",
        "genres:\tList of genres associated with the title (e.g., Drama, Comedy)\n",
        "\n",
        "production_countries:\tList of countries where the title was produced\n",
        "\n",
        "seasons:\tNumber of seasons (only applicable for shows)\n",
        "\n",
        "imdb_id:\tIMDb identifier (used to fetch data from IMDb)\n",
        "\n",
        "imdb_score:\tRating from IMDb (0–10) based on viewer ratings\n",
        "\n",
        "imdb_votes:\tNumber of IMDb users who rated the title\n",
        "\n",
        "tmdb_popularity:\tPopularity score from TMDb (The Movie Database)\n",
        "\n",
        "tmdb_score:\tTMDb rating (usually 0–10) from users on The Movie Database\n"
      ],
      "metadata": {
        "id": "gfoNAAC-nUe_"
      }
    },
    {
      "cell_type": "markdown",
      "source": [
        "## ***2. Understanding Your Variables***"
      ],
      "metadata": {
        "id": "nA9Y7ga8ng1Z"
      }
    },
    {
      "cell_type": "code",
      "source": [
        "# Dataset Columns\n",
        "display(titles.columns)\n",
        "display(titles.columns)"
      ],
      "metadata": {
        "id": "j7xfkqrt5Ag5"
      },
      "execution_count": null,
      "outputs": []
    },
    {
      "cell_type": "code",
      "source": [
        "# Dataset Describe\n",
        "display(titles.describe())\n",
        "display(credits.describe())"
      ],
      "metadata": {
        "id": "DnOaZdaE5Q5t"
      },
      "execution_count": null,
      "outputs": []
    },
    {
      "cell_type": "markdown",
      "source": [
        "### Check Unique Values for each variable."
      ],
      "metadata": {
        "id": "u3PMJOP6ngxN"
      }
    },
    {
      "cell_type": "code",
      "source": [
        "# Check Unique Values for each variable.\n",
        "display(titles.nunique())\n",
        "display(credits.nunique())"
      ],
      "metadata": {
        "id": "zms12Yq5n-jE"
      },
      "execution_count": null,
      "outputs": []
    },
    {
      "cell_type": "markdown",
      "source": [
        "## 3. ***Data Wrangling***"
      ],
      "metadata": {
        "id": "dauF4eBmngu3"
      }
    },
    {
      "cell_type": "markdown",
      "source": [
        "### Data Wrangling Code\n",
        "\n"
      ],
      "metadata": {
        "id": "bKJF3rekwFvQ"
      }
    },
    {
      "cell_type": "code",
      "source": [
        "# Write your code to make your dataset analysis ready.\n",
        "# Merging both of the datasets\n",
        "dataset = pd.merge(titles, credits, on= 'id')\n",
        "# Replacing null values with 'Not Avilable'\n",
        "dataset['description'] = dataset['description'].fillna('Not Available')\n",
        "dataset['age_certification'] = dataset['age_certification'].fillna('Not Available')\n",
        "dataset['seasons'] = dataset['seasons'].fillna('Not Available')\n",
        "dataset['imdb_id'] = dataset['imdb_id'].fillna('Not Available')\n",
        "dataset['imdb_score'] = dataset['imdb_score'].fillna('Not Available')\n",
        "dataset['imdb_votes'] = dataset['imdb_votes'].fillna('Not Available')\n",
        "dataset['tmdb_popularity'] = dataset['tmdb_popularity'].fillna('Not Available')\n",
        "dataset['tmdb_score'] = dataset['tmdb_score'].fillna('Not Available')\n",
        "dataset['character'] = dataset['character'].fillna('Not Available')\n",
        "# Null Values Count\n",
        "display(dataset.isnull().sum())\n",
        "# Droping duplicate values\n",
        "dataset.drop_duplicates(inplace=True)\n",
        "# Duplicate Values Count\n",
        "display(dataset.duplicated().sum())\n",
        "# Final view at the dataset\n",
        "display(dataset.head())"
      ],
      "metadata": {
        "id": "8sm3-HGRIxTZ"
      },
      "execution_count": null,
      "outputs": []
    },
    {
      "cell_type": "markdown",
      "source": [
        "### What all manipulations have you done and insights you found?"
      ],
      "metadata": {
        "id": "MSa1f5Uengrz"
      }
    },
    {
      "cell_type": "markdown",
      "source": [
        "Answer Here."
      ],
      "metadata": {
        "id": "LbyXE7I1olp8"
      }
    },
    {
      "cell_type": "markdown",
      "source": [
        "## ***4. Data Vizualization, Storytelling & Experimenting with charts : Understand the relationships between variables***"
      ],
      "metadata": {
        "id": "GF8Ens_Soomf"
      }
    },
    {
      "cell_type": "markdown",
      "source": [
        "#### Chart - 1"
      ],
      "metadata": {
        "id": "0wOQAZs5pc--"
      }
    },
    {
      "cell_type": "code",
      "source": [
        "# Chart - 1 visualization code\n",
        "# Coubnting the number of Movies and TV Shows usng .value_counts()\n",
        "count = dataset['type'].value_counts()\n",
        "# Ploting Pie Chart\n",
        "plt.pie(count, autopct= '%1.1f%%', labels= count.index)\n",
        "plt.title('Tv vs Movie')\n",
        "plt.legend(count.index)\n",
        "plt.show()"
      ],
      "metadata": {
        "id": "7v_ESjsspbW7"
      },
      "execution_count": null,
      "outputs": []
    },
    {
      "cell_type": "markdown",
      "source": [
        "##### 1. Why did you pick the specific chart?"
      ],
      "metadata": {
        "id": "K5QZ13OEpz2H"
      }
    },
    {
      "cell_type": "markdown",
      "source": [
        "I have picked Pie Chart because, it clearly shows the percentage wise comparision between Movies and TV Shows on Amazon Prime Video."
      ],
      "metadata": {
        "id": "XESiWehPqBRc"
      }
    },
    {
      "cell_type": "markdown",
      "source": [
        "##### 2. What is/are the insight(s) found from the chart?"
      ],
      "metadata": {
        "id": "lQ7QKXXCp7Bj"
      }
    },
    {
      "cell_type": "markdown",
      "source": [
        "By the chart we can clearly see that the majority of content( Movies or TV Shows) released on the platform are Movies with 93.4% of the total content followed by TV Shows which are only 6.6% of the total content.\n",
        "\n",
        "This suggests that there is a strong focus on Movies then that of TV Shows by the platform.\n",
        "\n",
        "It also suggests that Movies are the key revenue drivers of the platform as the contribute the most in the content released."
      ],
      "metadata": {
        "id": "C_j1G7yiqdRP"
      }
    },
    {
      "cell_type": "markdown",
      "source": [
        "##### 3. Will the gained insights help creating a positive business impact?\n",
        "Are there any insights that lead to negative growth? Justify with specific reason."
      ],
      "metadata": {
        "id": "448CDAPjqfQr"
      }
    },
    {
      "cell_type": "markdown",
      "source": [
        "The chart suggests that the content strategy of the platform purely focuses on Movies then that of TV Shows.\n",
        "\n",
        " This can be because, movies are in trend over TV Shows.\n",
        "\n",
        " This can lead to Customer Churn because there will be no **Content Diversity** as far as the type of content is conserned.\n",
        "\n",
        "Seems like Content Strategy needs to be modified and there should be balanced approach on content addition."
      ],
      "metadata": {
        "id": "3cspy4FjqxJW"
      }
    },
    {
      "cell_type": "markdown",
      "source": [
        "#### Chart - 2"
      ],
      "metadata": {
        "id": "KSlN3yHqYklG"
      }
    },
    {
      "cell_type": "code",
      "source": [
        "# Chart - 2 visualization code\n",
        "# Top Performing Genres\n",
        "# Using Abstract Library for converting string to lists and then used explode() to split them into rows and value_counts() for individual counting\n",
        "top_genres = dataset['genres'].apply(ast.literal_eval).explode().value_counts().sort_values(ascending= False).head()\n",
        "# Ploting bar graph\n",
        "top_genres.plot(kind='bar')\n",
        "plt.title('Top Performing Genres')\n",
        "plt.xlabel('Genres')\n",
        "plt.ylabel('Count of Movies and TV Shows')\n",
        "plt.show()"
      ],
      "metadata": {
        "id": "R4YgtaqtYklH"
      },
      "execution_count": null,
      "outputs": []
    },
    {
      "cell_type": "markdown",
      "source": [
        "##### 1. Why did you pick the specific chart?"
      ],
      "metadata": {
        "id": "t6dVpIINYklI"
      }
    },
    {
      "cell_type": "markdown",
      "source": [
        "I have picked Bar Chart because it ideal for comparing categorical data like Genred on the basis of Count of Movies and TV Shows."
      ],
      "metadata": {
        "id": "5aaW0BYyYklI"
      }
    },
    {
      "cell_type": "markdown",
      "source": [
        "##### 2. What is/are the insight(s) found from the chart"
      ],
      "metadata": {
        "id": "ijmpgYnKYklI"
      }
    },
    {
      "cell_type": "markdown",
      "source": [
        "The chart suggests that 'Dramas' are the most preferred Genre across Movies and TV Shows with count just below 70000.\n",
        "\n",
        "Followed by 'Comedy' which is over 40000, 'Thriller' and 'Action' over 30000 and 'Romance' just below it.\n",
        "\n"
      ],
      "metadata": {
        "id": "PSx9atu2YklI"
      }
    },
    {
      "cell_type": "markdown",
      "source": [
        "##### 3. Will the gained insights help creating a positive business impact?\n",
        "Are there any insights that lead to negative growth? Justify with specific reason."
      ],
      "metadata": {
        "id": "-JiQyfWJYklI"
      }
    },
    {
      "cell_type": "markdown",
      "source": [
        "The Chart suggest that most of the content on Amazon Prime Video is based on these genres. So the platform can strategically optimize their Recommendation Systems accordingly.\n",
        "\n",
        "This is will ensure **Content Diversity** because there will be multiple options for the user of the same Geners. This can reduce the chances of **Customer Churn**.\n",
        "\n",
        "Also can design **Marketing Strategy** accordingly, advertising the top and trendy Movies and TV Shows from these Genres."
      ],
      "metadata": {
        "id": "BcBbebzrYklV"
      }
    },
    {
      "cell_type": "markdown",
      "source": [
        "#### Chart - 3"
      ],
      "metadata": {
        "id": "EM7whBJCYoAo"
      }
    },
    {
      "cell_type": "code",
      "source": [
        "# Chart - 3 visualization code\n",
        "# Using Abstract Library for converting string to lists for eg(\"['US', 'GB']\" to ['US', 'UK']) and then used explode() to split them into rows for eg(e.g., ['US', 'GB'] to 'US', 'GB')\n",
        "countries = dataset['production_countries'].apply(ast.literal_eval).explode()\n",
        "# Using .value_counts() to individual count the rows for eg( ['US', 'GB', 'US'] to US: 2, GB: 1)\n",
        "top_countries = countries.value_counts().head()\n",
        "# Replacing countries not in top_countries with 'Others' for eg( 'GE' to 'Other' if not in top_countries)\n",
        "countries = countries.apply(lambda x: x if x in top_countries else 'Others')\n",
        "# Using .value_counts() to individual count the rows for eg( ['US', 'GB', 'US', 'Others'] to US: 2, GB: 1, Others: 1)\n",
        "countries_count = countries.value_counts()\n",
        "# Ploting the pie chart\n",
        "plt.pie(countries_count, labels=countries_count.index, autopct='%1.1f%%')\n",
        "plt.title(\"Top 5 Content Production Countries\")\n",
        "plt.tight_layout()\n",
        "plt.show()"
      ],
      "metadata": {
        "id": "t6GMdE67YoAp"
      },
      "execution_count": null,
      "outputs": []
    },
    {
      "cell_type": "markdown",
      "source": [
        "##### 1. Why did you pick the specific chart?"
      ],
      "metadata": {
        "id": "fge-S5ZAYoAp"
      }
    },
    {
      "cell_type": "markdown",
      "source": [
        "I have picked Pie Chart because, it clearly shows the percentage wise comparision between every countries on Amazon Prime Video."
      ],
      "metadata": {
        "id": "5dBItgRVYoAp"
      }
    },
    {
      "cell_type": "markdown",
      "source": [
        "##### 2. What is/are the insight(s) found from the chart?"
      ],
      "metadata": {
        "id": "85gYPyotYoAp"
      }
    },
    {
      "cell_type": "markdown",
      "source": [
        "The chart suggests that US produces the most amount of content around 53.6% followed by GB with 8.5%, IN with 7.8%,CA with 4.5% and FR with 3.3%.\n",
        "\n",
        "So this means 77.7 % of the total content released on Amazon Prime Video are by these top 5 country and only 22.3% is been produced by the rest.\n",
        "\n",
        "This also suggest majority of revenue are produced by these 5 players especially Us which has control over half of the market.\n",
        "\n",
        "This means that most of the content on Amazon is in English Language so there is a large content diversity for english speaking users.\n",
        "\n"
      ],
      "metadata": {
        "id": "4jstXR6OYoAp"
      }
    },
    {
      "cell_type": "markdown",
      "source": [
        "##### 3. Will the gained insights help creating a positive business impact?\n",
        "Are there any insights that lead to negative growth? Justify with specific reason."
      ],
      "metadata": {
        "id": "RoGjAbkUYoAp"
      }
    },
    {
      "cell_type": "markdown",
      "source": [
        "The chart suggests that the platform has large focus over these countries besause they have released about 80% of the total content on Amazon Prime Video.\n",
        "This can lead to limitation over Content Diversity for non-english speaking audience and audience who like regional content.\n",
        "\n",
        "There should be a balanced approach over content releasing on platform.\n",
        "Also should optimize the recommendation systems because there is a alot of content for the english speaking audience, this will lead to complete use the content on the platform and will lead to new subscriptions."
      ],
      "metadata": {
        "id": "zfJ8IqMcYoAp"
      }
    },
    {
      "cell_type": "markdown",
      "source": [
        "#### Chart - 4"
      ],
      "metadata": {
        "id": "4Of9eVA-YrdM"
      }
    },
    {
      "cell_type": "code",
      "source": [
        "# Chart - 4 visualization code\n",
        "# Using Abstract Library for converting string to lists for eg(\"['US', 'GB']\" to ['US', 'UK'])\n",
        "dataset['production_countries'] = dataset['production_countries'].apply(ast.literal_eval)\n",
        "\n",
        "# Using explode() to split them into rows for eg(e.g., ['US', 'GB'] to 'US', 'GB')\n",
        "countries = dataset.explode('production_countries')\n",
        "\n",
        "# Converting imdb_score to float value using pandas and avoiding errors\n",
        "countries['imdb_score'] = pd.to_numeric(countries['imdb_score'], errors='coerce')\n",
        "\n",
        "# # Using .groupby() to group the dataset, .mean() for average of ratings and .sort() for getting highest to lowest\n",
        "ratings = countries.groupby('production_countries')['imdb_score'].mean().sort_values()\n",
        "\n",
        "# Ploting Top 10 Rated Countries\n",
        "ratings.head(10).plot(kind='barh')\n",
        "plt.title('Top 10 Highest IMDb Rated Countries')\n",
        "plt.xlabel('Avg IMDb Rating')\n",
        "plt.ylabel('Country')\n",
        "plt.tight_layout()\n",
        "plt.show()"
      ],
      "metadata": {
        "id": "irlUoxc8YrdO"
      },
      "execution_count": null,
      "outputs": []
    },
    {
      "cell_type": "markdown",
      "source": [
        "##### 1. Why did you pick the specific chart?"
      ],
      "metadata": {
        "id": "iky9q4vBYrdO"
      }
    },
    {
      "cell_type": "markdown",
      "source": [
        "I used horizontal bar graph because it is best for showing the the rating of different countries.\n",
        "\n",
        "\n"
      ],
      "metadata": {
        "id": "aJRCwT6DYrdO"
      }
    },
    {
      "cell_type": "markdown",
      "source": [
        "##### 2. What is/are the insight(s) found from the chart?"
      ],
      "metadata": {
        "id": "F6T5p64dYrdO"
      }
    },
    {
      "cell_type": "markdown",
      "source": [
        "This chart suggest that these are the countries with the highest average rating on the platform.\n",
        "\n",
        "This chart also suggest that the top content producing countries are not on the list.This can be because they produce large amount of content which can lead to lower average rating.\n"
      ],
      "metadata": {
        "id": "Xx8WAJvtYrdO"
      }
    },
    {
      "cell_type": "markdown",
      "source": [
        "##### 3. Will the gained insights help creating a positive business impact?\n",
        "Are there any insights that lead to negative growth? Justify with specific reason."
      ],
      "metadata": {
        "id": "y-Ehk30pYrdP"
      }
    },
    {
      "cell_type": "markdown",
      "source": [
        "This means,may be this countries are not producing large content but they are producing quality content.For balance in the content addition strategy, the platform can invest in these proven performers. This can lead to content diversity and less customer churn.\n",
        "\n",
        "The platform has the best available regional content of these countries, so they can optimize their recommendation systems accordingly."
      ],
      "metadata": {
        "id": "jLNxxz7MYrdP"
      }
    },
    {
      "cell_type": "markdown",
      "source": [
        "#### Chart - 5"
      ],
      "metadata": {
        "id": "bamQiAODYuh1"
      }
    },
    {
      "cell_type": "code",
      "source": [
        "# Chart - 5 visualization code\n",
        "# # Using explode() to split them into rows for eg(e.g., ['US', 'GB'] to 'US', 'GB')\n",
        "countries = dataset.explode('production_countries')\n",
        "\n",
        "# Converting imdb_score to float value using pandas and avoiding errors\n",
        "countries['tmdb_score'] = pd.to_numeric(countries['tmdb_score'], errors='coerce')\n",
        "\n",
        "# Using .groupby() to group the dataset, .mean() for average of ratings and .sort() for getting highest to lowest\n",
        "ratings = countries.groupby('production_countries')['tmdb_score'].mean().sort_values()\n",
        "\n",
        "# Ploting Top 10 Rated Countries\n",
        "ratings.head(10).plot(kind='barh')\n",
        "plt.title('Top 10 Highest TMDB Rated Countries')\n",
        "plt.xlabel('Avg TMDb Rating')\n",
        "plt.ylabel('Country')\n",
        "plt.tight_layout()\n",
        "plt.show()"
      ],
      "metadata": {
        "id": "TIJwrbroYuh3"
      },
      "execution_count": null,
      "outputs": []
    },
    {
      "cell_type": "markdown",
      "source": [
        "##### 1. Why did you pick the specific chart?"
      ],
      "metadata": {
        "id": "QHF8YVU7Yuh3"
      }
    },
    {
      "cell_type": "markdown",
      "source": [
        "I used horizontal bar graph because it is best for showing the the rating of different countries."
      ],
      "metadata": {
        "id": "dcxuIMRPYuh3"
      }
    },
    {
      "cell_type": "markdown",
      "source": [
        "##### 2. What is/are the insight(s) found from the chart?"
      ],
      "metadata": {
        "id": "GwzvFGzlYuh3"
      }
    },
    {
      "cell_type": "markdown",
      "source": [
        "This chart suggest that these are the countries with the highest average rating on the platform.\n",
        "\n",
        "This chart also suggest that the top content producing countries are not on the list.This can be because they produce large amount of content which can lead to lower average rating.\n",
        "\n",
        "And also the countries of highest average Imdb rating are different from highest average Tmdb rating showing the difference in the rating criteria."
      ],
      "metadata": {
        "id": "uyqkiB8YYuh3"
      }
    },
    {
      "cell_type": "markdown",
      "source": [
        "##### 3. Will the gained insights help creating a positive business impact?\n",
        "Are there any insights that lead to negative growth? Justify with specific reason."
      ],
      "metadata": {
        "id": "qYpmQ266Yuh3"
      }
    },
    {
      "cell_type": "markdown",
      "source": [
        "This means,may be this countries are not producing large content but they are producing quality content.For balance in the content addition strategy, the platform can invest in these proven performers. This can lead to content diversity and less customer churn.\n",
        "\n",
        "The platform has the best available regional content of these countries, so they can optimize their recommendation systems accordingly."
      ],
      "metadata": {
        "id": "_WtzZ_hCYuh4"
      }
    },
    {
      "cell_type": "markdown",
      "source": [
        "#### Chart - 6"
      ],
      "metadata": {
        "id": "OH-pJp9IphqM"
      }
    },
    {
      "cell_type": "code",
      "source": [
        "# Chart - 6 visualization code\n",
        "# Converting imdb_score to float value using pandas and avoiding errors\n",
        "dataset['imdb_score'] = pd.to_numeric(dataset['imdb_score'], errors='coerce')\n",
        "\n",
        "# Grouping 'release_years' with 'imdb_score' with .groupby() and finding the average rating over the years by .mean()\n",
        "df = dataset.groupby('release_year')['imdb_score'].mean().reset_index()\n",
        "\n",
        "# Ploting the line chart using plotly\n",
        "fig = px.line(df, x='release_year', y='imdb_score', title='Average IMDb Rating by Release Years',labels={'release_year': 'Year', 'imdb_score': 'Avg IMDb Rating'})\n",
        "fig.show()"
      ],
      "metadata": {
        "id": "kuRf4wtuphqN"
      },
      "execution_count": null,
      "outputs": []
    },
    {
      "cell_type": "markdown",
      "source": [
        "##### 1. Why did you pick the specific chart?"
      ],
      "metadata": {
        "id": "bbFf2-_FphqN"
      }
    },
    {
      "cell_type": "markdown",
      "source": [
        "I used line charts besause they are best for time series analysis."
      ],
      "metadata": {
        "id": "loh7H2nzphqN"
      }
    },
    {
      "cell_type": "markdown",
      "source": [
        "##### 2. What is/are the insight(s) found from the chart?"
      ],
      "metadata": {
        "id": "_ouA3fa0phqN"
      }
    },
    {
      "cell_type": "markdown",
      "source": [
        "This chart suggests that the content released in the during 1916 has the most highest average rating (7.5).Means the platform has the best content of that specific year.\n",
        "\n",
        "And it peaked again in 1926 with highest average rating being approximaly 7.4. While there is a huge dip in the year 1930 where the average rating went below 5.5.\n",
        "\n",
        "And these ups and downs countinued untill 1963 where the average ratings reached 6.7 again there was a dip in 1983 where the average rating went near to record below 5.4 and then the trend was similar untill 2022."
      ],
      "metadata": {
        "id": "VECbqPI7phqN"
      }
    },
    {
      "cell_type": "markdown",
      "source": [
        "##### 3. Will the gained insights help creating a positive business impact?\n",
        "Are there any insights that lead to negative growth? Justify with specific reason."
      ],
      "metadata": {
        "id": "Seke61FWphqN"
      }
    },
    {
      "cell_type": "markdown",
      "source": [
        "This chart says that there are specific years of whuch the platform has the best content of like:\n",
        "\n",
        "1916 with 7.5\n",
        "\n",
        "1926 with 7.4\n",
        "\n",
        "1946 with 6.7\n",
        "\n",
        "1963 with 6.69\n",
        "\n",
        "1997 with 6.66\n",
        "\n",
        "2022 with 6.57\n",
        "\n",
        "By looking at this the platform can strategically design their recommendation systems that showcases the content of these specific years because the platform has the best and the highest rated content of these years. By doing this the platform will attract new coustomers which are willing to watch content of thesse specific years."
      ],
      "metadata": {
        "id": "DW4_bGpfphqN"
      }
    },
    {
      "cell_type": "markdown",
      "source": [
        "#### Chart - 7"
      ],
      "metadata": {
        "id": "PIIx-8_IphqN"
      }
    },
    {
      "cell_type": "code",
      "source": [
        "# Chart - 7 visualization code\n",
        "dataset['tmdb_score'] = pd.to_numeric(dataset['tmdb_score'], errors='coerce')\n",
        "\n",
        "# Group by year and calculate average IMDb score\n",
        "df = dataset.groupby('release_year')['tmdb_score'].mean().reset_index()\n",
        "\n",
        "# Plot\n",
        "fig = px.line(df, x='release_year', y='tmdb_score', title='Average TMDb Rating by Release Years',labels={'release_year': 'Year', 'imdb_score': 'Avg Rating'})\n",
        "fig.show()"
      ],
      "metadata": {
        "id": "lqAIGUfyphqO"
      },
      "execution_count": null,
      "outputs": []
    },
    {
      "cell_type": "markdown",
      "source": [
        "##### 1. Why did you pick the specific chart?"
      ],
      "metadata": {
        "id": "t27r6nlMphqO"
      }
    },
    {
      "cell_type": "markdown",
      "source": [
        "I used line charts besause they are best for time series analysis."
      ],
      "metadata": {
        "id": "iv6ro40sphqO"
      }
    },
    {
      "cell_type": "markdown",
      "source": [
        "##### 2. What is/are the insight(s) found from the chart?"
      ],
      "metadata": {
        "id": "r2jJGEOYphqO"
      }
    },
    {
      "cell_type": "markdown",
      "source": [
        "This chart suggests that the content released in the during 1917 has the most highest average rating (9).Means the platform has the best content of that specific year.\n",
        "\n",
        "And it peaked again in 1926 with highest average rating being approximaly 7.5 .While there is a huge dip in the year 1930 where the average rating went below 5.23.\n",
        "\n",
        "And these ups and downs countinued untill 1981 where the average ratings reached 6.6 again there was a dip in 1983 where the average rating went near to record below 5.3 and then the trend was similar untill 2022.\n",
        "\n",
        "Also seems that the rating criteria can be different but the trend is similar to Imdb Rating.\n",
        "\n",
        "This confirms that the analysis is valid."
      ],
      "metadata": {
        "id": "Po6ZPi4hphqO"
      }
    },
    {
      "cell_type": "markdown",
      "source": [
        "##### 3. Will the gained insights help creating a positive business impact?\n",
        "Are there any insights that lead to negative growth? Justify with specific reason."
      ],
      "metadata": {
        "id": "b0JNsNcRphqO"
      }
    },
    {
      "cell_type": "markdown",
      "source": [
        "This chart says that there are specific years of whuch the platform has the best content of like:\n",
        "\n",
        "1917 with 9\n",
        "\n",
        "1926 with 7.25\n",
        "\n",
        "1950 with 6.25\n",
        "\n",
        "1968 with 6.62\n",
        "\n",
        "1981 with 6.5\n",
        "\n",
        "2022 with 6.84\n",
        "\n",
        "By looking at this the platform can strategically design their recommendation systems that showcases the content of these specific years because the platform has the best and the highest rated content of these years. By doing this the platform will attract new coustomers which are willing to watch content of thesse specific years."
      ],
      "metadata": {
        "id": "xvSq8iUTphqO"
      }
    },
    {
      "cell_type": "markdown",
      "source": [
        "#### Chart - 8"
      ],
      "metadata": {
        "id": "BZR9WyysphqO"
      }
    },
    {
      "cell_type": "code",
      "source": [
        "# Chart - 8 visualization code\n",
        "# Creating a dataframe for 'title', 'imdb_score', 'imdb_votes'\n",
        "data = dataset[['title', 'imdb_score', 'imdb_votes']]\n",
        "\n",
        "# Converting imdb_votes to float value using pandas\n",
        "data['imdb_votes'] = pd.to_numeric(data['imdb_votes'], errors='coerce')\n",
        "\n",
        "# Finding the mean votes from the whole 'imdb_votes'\n",
        "mean_votes = data['imdb_votes'].mean()\n",
        "\n",
        "# Filtering 'imdb_votes' on the basis of mean_votes(equal or greater than mean votes)\n",
        "votes = data[data['imdb_votes'] >= mean_votes]\n",
        "\n",
        "# Finding the highest or maximum score\n",
        "ratings = votes['imdb_score'].max()\n",
        "\n",
        "# Finding the movies and shows equal to the highest score\n",
        "high_ratings = votes[votes['imdb_score'] == ratings]\n",
        "\n",
        "# Finding the top 10 Highest Rated TV Shows or Movies on basis of Votes and removing duplicate titles\n",
        "top_rated = votes.sort_values(by =['imdb_score', 'imdb_votes'], ascending= [False, False]).drop_duplicates().head(10)\n",
        "\n",
        "# Ploting using plotly\n",
        "fig = px.bar(top_rated, x='imdb_score', y='title', text='imdb_votes', title='Top IMDb-Rated Movies Or TV Shows On Basis Of Average Number Of Votes')\n",
        "fig.show()"
      ],
      "metadata": {
        "id": "TdPTWpAVphqO"
      },
      "execution_count": null,
      "outputs": []
    },
    {
      "cell_type": "markdown",
      "source": [
        "##### 1. Why did you pick the specific chart?"
      ],
      "metadata": {
        "id": "jj7wYXLtphqO"
      }
    },
    {
      "cell_type": "markdown",
      "source": [
        "I used lined bar chart because it is best for comaring the rating and votes of different Movies or TV Shows on rating scale."
      ],
      "metadata": {
        "id": "Ob8u6rCTphqO"
      }
    },
    {
      "cell_type": "markdown",
      "source": [
        "##### 2. What is/are the insight(s) found from the chart?"
      ],
      "metadata": {
        "id": "eZrbJ2SmphqO"
      }
    },
    {
      "cell_type": "markdown",
      "source": [
        "The chart suggests that there are Top Imdb rated TV Shows or Movies on basic of Average number of votes.\n",
        "\n",
        "Means the displayed TV Shows and Movies are highly rated but their voting were higher or equal to average. This ensures that the rating is not biased.\n",
        "\n",
        "The chart also suggests that most of High Rated content are TV Shows.Means the platform has few TV Shows but they are best.\n"
      ],
      "metadata": {
        "id": "mZtgC_hjphqO"
      }
    },
    {
      "cell_type": "markdown",
      "source": [
        "##### 3. Will the gained insights help creating a positive business impact?\n",
        "Are there any insights that lead to negative growth? Justify with specific reason."
      ],
      "metadata": {
        "id": "rFu4xreNphqO"
      }
    },
    {
      "cell_type": "markdown",
      "source": [
        "By this the platform can stategies their recommendation sytems accordingly.There are few TV Shows but what they have is the best and can also optimize the marketing campains. This will ensure, customer satisfaction, can lead to decrease in customer churn and user engagment.\n",
        "\n",
        "Try focusing on more movies which are as high rated as TV Shows because it will create a balance for the customers."
      ],
      "metadata": {
        "id": "ey_0qi68phqO"
      }
    },
    {
      "cell_type": "markdown",
      "source": [
        "#### Chart - 9"
      ],
      "metadata": {
        "id": "YJ55k-q6phqO"
      }
    },
    {
      "cell_type": "code",
      "source": [
        "# Chart - 9 visualization code\n",
        "# Creating 1 dataframe for 'release_year', 'runtime' and 'type'\n",
        "runtime = dataset[['release_year', 'runtime', 'type']]\n",
        "\n",
        "# Using data of runtime from 2000's\n",
        "runtime = runtime[runtime['release_year'] >= 2000]\n",
        "\n",
        "# Using matplotlib for setting the size of the chart\n",
        "plt.figure(figsize=(12, 5))\n",
        "\n",
        "# Using seaborn for ploting chart\n",
        "sns.boxplot(x='release_year', y='runtime', hue='type', data=runtime)\n",
        "plt.title('Runtime Distribution of Movies and TV Shows by Year (Since 2000)')\n",
        "plt.xlabel('Release Year')\n",
        "plt.ylabel('Runtime')\n",
        "plt.xticks(rotation=90) # For rotating the x-axis which vertically to avoid overlaping\n",
        "plt.tight_layout()\n",
        "plt.show()"
      ],
      "metadata": {
        "id": "B2aS4O1ophqO"
      },
      "execution_count": null,
      "outputs": []
    },
    {
      "cell_type": "markdown",
      "source": [
        "##### 1. Why did you pick the specific chart?"
      ],
      "metadata": {
        "id": "gCFgpxoyphqP"
      }
    },
    {
      "cell_type": "markdown",
      "source": [
        "I am using  paired box plot because it will make easier to analyse the median runtime fo Movies And TV Shows over the years.This will help in understand the meadian and outliers fo runtime over the years."
      ],
      "metadata": {
        "id": "TVxDimi2phqP"
      }
    },
    {
      "cell_type": "markdown",
      "source": [
        "##### 2. What is/are the insight(s) found from the chart?"
      ],
      "metadata": {
        "id": "OVtJsKN_phqQ"
      }
    },
    {
      "cell_type": "markdown",
      "source": [
        "The chart suggests the trend of runtime of movies and TV Shows over the years.\n",
        "\n",
        "In case of Movies, the trend looks stable over the years with respect to outliers. The median seems to be floating between 100 to 120 which suggest that the the length of the movies are are to some what similar over the years.\n",
        "\n",
        "In case of TV Shows, the trend looks that there is increase in the median over the years. TV Shows seems to be more longer over the time this means that there is increase in the treand of TV Shows over the years."
      ],
      "metadata": {
        "id": "ngGi97qjphqQ"
      }
    },
    {
      "cell_type": "markdown",
      "source": [
        "##### 3. Will the gained insights help creating a positive business impact?\n",
        "Are there any insights that lead to negative growth? Justify with specific reason."
      ],
      "metadata": {
        "id": "lssrdh5qphqQ"
      }
    },
    {
      "cell_type": "markdown",
      "source": [
        "Considering the fact that Movies dominate the platform and the runtime is still same over almost a century, means that there should be should be more invetment made in this type of content because it is a proven performner.\n",
        "\n",
        "The number of TV shows are les in number on the platform as compared to Movies, and there is increase in median runtime of TV Shows, suggests that that TV Shows are more likely or prefered on the platform and the platform has some of the best TV Shows available.Means the platform should highly and aggresivly invest in the TV Shows."
      ],
      "metadata": {
        "id": "tBpY5ekJphqQ"
      }
    },
    {
      "cell_type": "markdown",
      "source": [
        "#### Chart - 10"
      ],
      "metadata": {
        "id": "U2RJ9gkRphqQ"
      }
    },
    {
      "cell_type": "code",
      "source": [
        "# Chart - 10 visualization code\n",
        "# Creating 1 dataframe for 'production_countires' and 'imdb_score'\n",
        "data = dataset[['production_countries', 'imdb_score']]\n",
        "\n",
        "# used explode() to split them into rows for eg(e.g., ['US', 'GB'] to 'US', 'GB')\n",
        "data = data.explode('production_countries')\n",
        "\n",
        "# Using .value_counts() to individual count the rows for eg( ['US', 'GB', 'US'] to US: 2, GB: 1)\n",
        "country_counts = data['production_countries'].value_counts()\n",
        "\n",
        "# Getting the top 10 Countries on basis of Number of TV Shows and Movies\n",
        "top_countries = country_counts.head(10)\n",
        "\n",
        "# Grouping the Top countries and their average or the mean Imdb_rating using .groupby() and .mean()\n",
        "avg_ratings = data.groupby('production_countries')['imdb_score'].mean().loc[top_countries.index] # Using .loc[top_countries] for getting the mean value only for top_countries\n",
        "\n",
        "# Plotinh the chart using matplotlib\n",
        "avg_ratings.plot(kind='bar')\n",
        "plt.title('Top 10 Countries and Their Average Imdb Rating')\n",
        "plt.xlabel('Country')\n",
        "plt.ylabel('Average IMDb Rating')\n",
        "plt.ylim(0,10) # For showing the rating scale 1 to 10\n",
        "plt.tight_layout()\n",
        "plt.show()"
      ],
      "metadata": {
        "id": "GM7a4YP4phqQ"
      },
      "execution_count": null,
      "outputs": []
    },
    {
      "cell_type": "markdown",
      "source": [
        "##### 1. Why did you pick the specific chart?"
      ],
      "metadata": {
        "id": "1M8mcRywphqQ"
      }
    },
    {
      "cell_type": "markdown",
      "source": [
        "I used vertical bar chart to display Top Content Producing Countries's Average Ratings."
      ],
      "metadata": {
        "id": "8agQvks0phqQ"
      }
    },
    {
      "cell_type": "markdown",
      "source": [
        "##### 2. What is/are the insight(s) found from the chart?"
      ],
      "metadata": {
        "id": "tgIPom80phqQ"
      }
    },
    {
      "cell_type": "markdown",
      "source": [
        "The chart suggests that these are the top content producing countries and this is thier average ratins.\n",
        "\n",
        "These are not highest rated countries because they produce the most number of content but there is the comaprision between them ensuring review of their content quality.\n",
        "\n",
        "Their average rating seems to be even but considering the fact that US produces more than 50% but still has maintained the average rating just below 6 is impressive. And also GB with average rating just above 6.This suggests that the there is a hugh high quality content available for English speaking audience.\n",
        "\n",
        "These countries combined produces more that 80 to 85% of the total content on the platform but still has maintained the average rating of 6 is quite impressive.This also suggests that the overall content quality of the platform is great."
      ],
      "metadata": {
        "id": "Qp13pnNzphqQ"
      }
    },
    {
      "cell_type": "markdown",
      "source": [
        "##### 3. Will the gained insights help creating a positive business impact?\n",
        "Are there any insights that lead to negative growth? Justify with specific reason."
      ],
      "metadata": {
        "id": "JMzcOPDDphqR"
      }
    },
    {
      "cell_type": "markdown",
      "source": [
        "There is almost 70% content available for english speaking audience.The platform should completly use this in the future marketing strategy for incresing user engagement and new subscriptions.\n",
        "\n",
        "As mentioned before, the overall 85% of the content is produced by these countries which is good but the platform needs to make the content more diverse and invest in more regional content or should create a balance in content adition. The potential countries are mentioned in the previous charts.\n"
      ],
      "metadata": {
        "id": "R4Ka1PC2phqR"
      }
    },
    {
      "cell_type": "markdown",
      "source": [
        "#### Chart - 11"
      ],
      "metadata": {
        "id": "x-EpHcCOp1ci"
      }
    },
    {
      "cell_type": "code",
      "source": [
        "# Chart - 11 visualization code\n",
        "# Creating 1 dataframe for 'production_countires' and 'imdb_score'\n",
        "data = dataset[['production_countries', 'tmdb_score']]\n",
        "\n",
        "# used explode() to split them into rows for eg(e.g., ['US', 'GB'] to 'US', 'GB')\n",
        "data = data.explode('production_countries')\n",
        "\n",
        "# Using .value_counts() to individual count the rows for eg( ['US', 'GB', 'US'] to US: 2, GB: 1)\n",
        "country_counts = data['production_countries'].value_counts()\n",
        "\n",
        "# Getting the top 10 Countries on basis of Number of TV Shows and Movies\n",
        "top_countries = country_counts.head(10)\n",
        "\n",
        "# Grouping the Top countries and their average or the mean Imdb_rating using .groupby() and .mean()\n",
        "avg_ratings = data.groupby('production_countries')['tmdb_score'].mean().loc[top_countries.index] # Using .loc[top_countries] for getting the mean value only for top_countries\n",
        "\n",
        "# Plotinh the chart using matplotlib\n",
        "avg_ratings.plot(kind='bar')\n",
        "plt.title('Top 10 Countries and Their Average Tmdb Rating')\n",
        "plt.xlabel('Country')\n",
        "plt.ylabel('Average TMDb Rating')\n",
        "plt.ylim(0,10) # For showing the rating scale 1 to 10\n",
        "plt.tight_layout()\n",
        "plt.show()"
      ],
      "metadata": {
        "id": "mAQTIvtqp1cj"
      },
      "execution_count": null,
      "outputs": []
    },
    {
      "cell_type": "markdown",
      "source": [
        "##### 1. Why did you pick the specific chart?"
      ],
      "metadata": {
        "id": "X_VqEhTip1ck"
      }
    },
    {
      "cell_type": "markdown",
      "source": [
        "I used vertical bar chart to display Top Content Producing Countries's Average Ratings."
      ],
      "metadata": {
        "id": "-vsMzt_np1ck"
      }
    },
    {
      "cell_type": "markdown",
      "source": [
        "##### 2. What is/are the insight(s) found from the chart?"
      ],
      "metadata": {
        "id": "8zGJKyg5p1ck"
      }
    },
    {
      "cell_type": "markdown",
      "source": [
        "The chart suggests that these are the top content producing countries and this is thier average ratins.\n",
        "\n",
        "These are not highest rated countries because they produce the most number of content but there is the comaprision between them ensuring review of their content quality.\n",
        "\n",
        "Their average rating seems to be even but considering the fact that US produces more than 50% but still has maintained the average rating just below 6 is impressive. And also GB with average rating just above 6.This suggests that the there is a hugh high quality content available for English speaking audience.\n",
        "\n",
        "These countries combined produces more that 80 to 85% of the total content on the platform but still has maintained the average rating of 6 is quite impressive.This also suggests that the overall content quality of the platform is great.\n",
        "\n",
        "This chart also suggest that there is no much dfference in IMDB rating and TMDB rating creteria but China seems to lead in TMdb ratings."
      ],
      "metadata": {
        "id": "ZYdMsrqVp1ck"
      }
    },
    {
      "cell_type": "markdown",
      "source": [
        "##### 3. Will the gained insights help creating a positive business impact?\n",
        "Are there any insights that lead to negative growth? Justify with specific reason."
      ],
      "metadata": {
        "id": "PVzmfK_Ep1ck"
      }
    },
    {
      "cell_type": "markdown",
      "source": [
        "There is almost 70% content available for english speaking audience.The platform should completly use this in the future marketing strategy for incresing user engagement and new subscriptions.\n",
        "\n",
        "As mentioned before, the overall 85% of the content is produced by these countries which is good but the platform needs to make the content more diverse and invest in more regional content or should create a balance in content adition. The potential countries are mentioned in the previous charts."
      ],
      "metadata": {
        "id": "druuKYZpp1ck"
      }
    },
    {
      "cell_type": "markdown",
      "source": [
        "#### Chart - 13 - Pair Plot"
      ],
      "metadata": {
        "id": "q29F0dvdveiT"
      }
    },
    {
      "cell_type": "code",
      "source": [
        "# Pair Plot visualization code\n",
        "# Creating one dataframe for 'type', 'imdb_score' and 'tmdb_score'\n",
        "data = dataset[['type', 'imdb_score', 'tmdb_score']]\n",
        "\n",
        "# Creating a variable for pairplot using seaborn by 'type'\n",
        "pair = sns.pairplot(data, hue='type')\n",
        "\n",
        "# Title for the pair plot\n",
        "pair.fig.suptitle(\"Pair Plot of IMDb Score and TMDb Score by Type\")\n",
        "\n",
        "# Showing the graph\n",
        "plt.show()\n"
      ],
      "metadata": {
        "id": "o58-TEIhveiU"
      },
      "execution_count": null,
      "outputs": []
    },
    {
      "cell_type": "markdown",
      "source": [
        "##### 1. Why did you pick the specific chart?"
      ],
      "metadata": {
        "id": "EXh0U9oCveiU"
      }
    },
    {
      "cell_type": "markdown",
      "source": [
        "I used paired plot chart because it can analysis more than 2 columnsor creteria a one point of time."
      ],
      "metadata": {
        "id": "eMmPjTByveiU"
      }
    },
    {
      "cell_type": "markdown",
      "source": [
        "##### 2. What is/are the insight(s) found from the chart?"
      ],
      "metadata": {
        "id": "22aHeOlLveiV"
      }
    },
    {
      "cell_type": "markdown",
      "source": [
        "Movies seems to be more widely rated then TV Shows just because of the numbers but the TV Shows have higher rating as compared TV Shows.\n",
        "\n",
        "Some being rated even 10/10 in both TV Shows and Movies, means that the platform has the best qaulity content available."
      ],
      "metadata": {
        "id": "uPQ8RGwHveiV"
      }
    },
    {
      "cell_type": "markdown",
      "source": [
        "## **5. Solution to Business Objective**"
      ],
      "metadata": {
        "id": "JcMwzZxoAimU"
      }
    },
    {
      "cell_type": "markdown",
      "source": [
        "#### What do you suggest the client to achieve Business Objective ?\n",
        "Explain Briefly."
      ],
      "metadata": {
        "id": "8G2x9gOozGDZ"
      }
    },
    {
      "cell_type": "markdown",
      "source": [
        "The content has a suttled biasness over TV Shows with context to qauntity but there are some quality shows available on the platform that needs to be strategically marketized. invest more in TV Shows as their runtime has increased over the years and try creating a balance between TV SHows and Movies.\n",
        "\n",
        "And if you talk about the countries, there are 10 countries which combined contribute over 85% of the total content these can lead to decrease in content diversity in the upcoming years  due to rapid moderization and can also lead to customer churn and bring your competitors in the game. The platform should invest in the new contries that have potential means that they have high rated content. These countries are mentioned in the charts.\n",
        "\n",
        "Platform also has the best movies or TV Shows of specific years means they have some years with highest average rating mentioned in the charts, by knowing that the platform can design their recommendation systems accordingly, means if a user watches a movie or a TV Show of a year which was a high performing year so they can suggest the movie of that year so that the customer is engaged for long period of time."
      ],
      "metadata": {
        "id": "pASKb0qOza21"
      }
    },
    {
      "cell_type": "markdown",
      "source": [
        "# **Conclusion**"
      ],
      "metadata": {
        "id": "gCX9965dhzqZ"
      }
    },
    {
      "cell_type": "markdown",
      "source": [
        "The analysis shows that movie runtimes have remained relatively consistent over the years, while TV show runtimes vary more and have generally decreased, reflecting changing audience preferences and streaming trends."
      ],
      "metadata": {
        "id": "Fjb1IsQkh3yE"
      }
    },
    {
      "cell_type": "markdown",
      "source": [
        "### ***Hurrah! You have successfully completed your EDA Capstone Project !!!***"
      ],
      "metadata": {
        "id": "gIfDvo9L0UH2"
      }
    },
    {
      "cell_type": "code",
      "source": [],
      "metadata": {
        "id": "dYX880etpL0x"
      },
      "execution_count": null,
      "outputs": []
    },
    {
      "cell_type": "code",
      "source": [],
      "metadata": {
        "id": "-6Vl263upPVI"
      },
      "execution_count": null,
      "outputs": []
    }
  ]
}