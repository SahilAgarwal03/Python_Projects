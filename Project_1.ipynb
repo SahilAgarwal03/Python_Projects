{
  "nbformat": 4,
  "nbformat_minor": 0,
  "metadata": {
    "colab": {
      "private_outputs": true,
      "provenance": [],
      "collapsed_sections": [
        "PH-0ReGfmX4f",
        "gCFgpxoyphqP",
        "OVtJsKN_phqQ",
        "tgIPom80phqQ",
        "EXh0U9oCveiU",
        "22aHeOlLveiV"
      ],
      "include_colab_link": true
    },
    "kernelspec": {
      "name": "python3",
      "display_name": "Python 3"
    },
    "language_info": {
      "name": "python"
    }
  },
  "cells": [
    {
      "cell_type": "markdown",
      "metadata": {
        "id": "view-in-github",
        "colab_type": "text"
      },
      "source": [
        "<a href=\"https://colab.research.google.com/github/SahilAgarwal03/Python_Projects/blob/main/Project_1.ipynb\" target=\"_parent\"><img src=\"https://colab.research.google.com/assets/colab-badge.svg\" alt=\"Open In Colab\"/></a>"
      ]
    },
    {
      "cell_type": "markdown",
      "source": [
        "# **Project Name**    - Netflix Content Analysis\n",
        "\n"
      ],
      "metadata": {
        "id": "vncDsAP0Gaoa"
      }
    },
    {
      "cell_type": "markdown",
      "source": [
        "##### **Project Type**    - EDA/Regression/Classification/Unsupervised\n",
        "##### **Contribution**    - Individual\n",
        "##### **Team Member**     - Sahil Agarwal"
      ],
      "metadata": {
        "id": "beRrZCGUAJYm"
      }
    },
    {
      "cell_type": "markdown",
      "source": [
        "# **Project Summary -**"
      ],
      "metadata": {
        "id": "FJNUwmbgGyua"
      }
    },
    {
      "cell_type": "markdown",
      "source": [
        "The primary objective of this project is to explore the global content of Netflix through data-driven methods, uncover trends and insights, and provide actionable recommendations to help optimize content strategy, audience engagement, and platform growth. This project primarily focuses on identifying patterns across content types, genres, countries, durations, and creator information (actors and directors).\n",
        "\n"
      ],
      "metadata": {
        "id": "F6v_1wHtG2nS"
      }
    },
    {
      "cell_type": "markdown",
      "source": [
        "# **GitHub Link -**"
      ],
      "metadata": {
        "id": "w6K7xa23Elo4"
      }
    },
    {
      "cell_type": "markdown",
      "source": [
        "https://github.com/SahilAgarwal03"
      ],
      "metadata": {
        "id": "h1o69JH3Eqqn"
      }
    },
    {
      "cell_type": "markdown",
      "source": [
        "# **Problem Statement**\n"
      ],
      "metadata": {
        "id": "yQaldy8SH6Dl"
      }
    },
    {
      "cell_type": "markdown",
      "source": [
        "**Write Problem Statement Here.**\n",
        "Netflix hosts a vast library of global content, but to maintain user engagement and strategic growth, it must understand patterns in content types, genres, regions, durations, and creator involvement. The challenge is to analyze this data to uncover actionable insights that can guide content strategy, optimize releases, and align offerings with viewer preferences.\n",
        "\n"
      ],
      "metadata": {
        "id": "DpeJGUA3kjGy"
      }
    },
    {
      "cell_type": "markdown",
      "source": [
        "#### **Define Your Business Objective?**"
      ],
      "metadata": {
        "id": "PH-0ReGfmX4f"
      }
    },
    {
      "cell_type": "markdown",
      "source": [
        "Answer Here."
      ],
      "metadata": {
        "id": "PhDvGCAqmjP1"
      }
    },
    {
      "cell_type": "markdown",
      "source": [
        "# **General Guidelines** : -  "
      ],
      "metadata": {
        "id": "mDgbUHAGgjLW"
      }
    },
    {
      "cell_type": "markdown",
      "source": [
        "1.   Well-structured, formatted, and commented code is required.\n",
        "2.   Exception Handling, Production Grade Code & Deployment Ready Code will be a plus. Those students will be awarded some additional credits.\n",
        "     \n",
        "     The additional credits will have advantages over other students during Star Student selection.\n",
        "       \n",
        "             [ Note: - Deployment Ready Code is defined as, the whole .ipynb notebook should be executable in one go\n",
        "                       without a single error logged. ]\n",
        "\n",
        "3.   Each and every logic should have proper comments.\n",
        "4. You may add as many number of charts you want. Make Sure for each and every chart the following format should be answered.\n",
        "        \n",
        "\n",
        "```\n",
        "# Chart visualization code\n",
        "```\n",
        "            \n",
        "\n",
        "*   Why did you pick the specific chart?\n",
        "*   What is/are the insight(s) found from the chart?\n",
        "* Will the gained insights help creating a positive business impact?\n",
        "Are there any insights that lead to negative growth? Justify with specific reason.\n",
        "\n",
        "5. You have to create at least 20 logical & meaningful charts having important insights.\n",
        "\n",
        "\n",
        "[ Hints : - Do the Vizualization in  a structured way while following \"UBM\" Rule.\n",
        "\n",
        "U - Univariate Analysis,\n",
        "\n",
        "B - Bivariate Analysis (Numerical - Categorical, Numerical - Numerical, Categorical - Categorical)\n",
        "\n",
        "M - Multivariate Analysis\n",
        " ]\n",
        "\n",
        "\n",
        "\n"
      ],
      "metadata": {
        "id": "ZrxVaUj-hHfC"
      }
    },
    {
      "cell_type": "markdown",
      "source": [
        "# ***Let's Begin !***"
      ],
      "metadata": {
        "id": "O_i_v8NEhb9l"
      }
    },
    {
      "cell_type": "markdown",
      "source": [
        "## ***1. Know Your Data***"
      ],
      "metadata": {
        "id": "HhfV-JJviCcP"
      }
    },
    {
      "cell_type": "markdown",
      "source": [
        "### Import Libraries"
      ],
      "metadata": {
        "id": "Y3lxredqlCYt"
      }
    },
    {
      "cell_type": "code",
      "source": [
        "# Import Libraries\n",
        "import pandas as pd\n",
        "import numpy as np\n",
        "import matplotlib.pyplot as plt\n",
        "import seaborn as sns\n"
      ],
      "metadata": {
        "id": "M8Vqi-pPk-HR"
      },
      "execution_count": null,
      "outputs": []
    },
    {
      "cell_type": "markdown",
      "source": [
        "### Dataset Loading"
      ],
      "metadata": {
        "id": "3RnN4peoiCZX"
      }
    },
    {
      "cell_type": "code",
      "source": [
        "# Load Dataset\n",
        "from google.colab import drive\n",
        "drive.mount('/content/drive')\n",
        "file_path = '/content/drive/My Drive/Netflix Project/Netflix Project.csv'\n",
        "df = pd.read_csv(file_path)"
      ],
      "metadata": {
        "id": "4CkvbW_SlZ_R"
      },
      "execution_count": null,
      "outputs": []
    },
    {
      "cell_type": "markdown",
      "source": [
        "### Dataset First View"
      ],
      "metadata": {
        "id": "x71ZqKXriCWQ"
      }
    },
    {
      "cell_type": "code",
      "source": [
        "# Dataset First Look\n",
        "df.head()"
      ],
      "metadata": {
        "id": "LWNFOSvLl09H"
      },
      "execution_count": null,
      "outputs": []
    },
    {
      "cell_type": "markdown",
      "source": [
        "### Dataset Rows & Columns count"
      ],
      "metadata": {
        "id": "7hBIi_osiCS2"
      }
    },
    {
      "cell_type": "code",
      "source": [
        "# Dataset Rows & Columns count\n",
        "df.shape\n",
        "print(\"Number Of Rows, Number Of Columns:\",df.shape)"
      ],
      "metadata": {
        "id": "Kllu7SJgmLij"
      },
      "execution_count": null,
      "outputs": []
    },
    {
      "cell_type": "markdown",
      "source": [
        "### Dataset Information"
      ],
      "metadata": {
        "id": "JlHwYmJAmNHm"
      }
    },
    {
      "cell_type": "code",
      "source": [
        "# Dataset Info(Data types and non-null values)\n",
        "df.info()"
      ],
      "metadata": {
        "id": "e9hRXRi6meOf"
      },
      "execution_count": null,
      "outputs": []
    },
    {
      "cell_type": "markdown",
      "source": [
        "#### Duplicate Values"
      ],
      "metadata": {
        "id": "35m5QtbWiB9F"
      }
    },
    {
      "cell_type": "code",
      "source": [
        "# Dataset Duplicate Value Count\n",
        "df.duplicated().sum()"
      ],
      "metadata": {
        "id": "1sLdpKYkmox0"
      },
      "execution_count": null,
      "outputs": []
    },
    {
      "cell_type": "markdown",
      "source": [
        "#### Missing Values/Null Values"
      ],
      "metadata": {
        "id": "PoPl-ycgm1ru"
      }
    },
    {
      "cell_type": "code",
      "source": [
        "df.isnull().sum()"
      ],
      "metadata": {
        "id": "CqDWEt6R2rbz"
      },
      "execution_count": null,
      "outputs": []
    },
    {
      "cell_type": "code",
      "source": [
        "# Visualizing the missing values\n",
        "sns.heatmap(df.isnull(), cbar=False, cmap='viridis')"
      ],
      "metadata": {
        "id": "3q5wnI3om9sJ"
      },
      "execution_count": null,
      "outputs": []
    },
    {
      "cell_type": "markdown",
      "source": [
        "## ***2. Understanding Your Variables***"
      ],
      "metadata": {
        "id": "nA9Y7ga8ng1Z"
      }
    },
    {
      "cell_type": "code",
      "source": [
        "# Dataset Columns\n",
        "df.columns\n",
        "print('Columns:',df.columns)"
      ],
      "metadata": {
        "id": "j7xfkqrt5Ag5"
      },
      "execution_count": null,
      "outputs": []
    },
    {
      "cell_type": "code",
      "source": [
        "# Dataset Describe\n",
        "df.describe()"
      ],
      "metadata": {
        "id": "DnOaZdaE5Q5t"
      },
      "execution_count": null,
      "outputs": []
    },
    {
      "cell_type": "markdown",
      "source": [
        "### Variables Description"
      ],
      "metadata": {
        "id": "PBTbrJXOngz2"
      }
    },
    {
      "cell_type": "markdown",
      "source": [
        "1. **show_id:** Unique identifier for each show or movie in the dataset.\n",
        "2. **type:**\tIndicates whether the content is a Movie or TV Show.\n",
        "title\tTitle of the content.\n",
        "3. **director:**\tNames of the directors associated with the content.\n",
        "cast\tList of actors/actresses involved\n",
        "4. **country:**\tCountry or countries where the content was produced.\n",
        "5. **date_added:**\tThe date when the content was added to Netflix.\n",
        "6. **release_year:**\tThe year when the content was originally released.\n",
        "7. **rating:**\tContent rating (e.g., TV-MA, PG-13) based on viewing suitability.\n",
        "8. **duration:**\tDuration of the content (in minutes for movies, or seasons for TV shows).\n",
        "9. **listed_in:**\tComma-separated genres/categories describing the content.\n",
        "10. **description:**\tShort synopsis or summary of the content."
      ],
      "metadata": {
        "id": "aJV4KIxSnxay"
      }
    },
    {
      "cell_type": "markdown",
      "source": [
        "### Check Unique Values for each variable."
      ],
      "metadata": {
        "id": "u3PMJOP6ngxN"
      }
    },
    {
      "cell_type": "code",
      "source": [
        "# Check Unique Values for each variable.\n",
        "df.nunique()"
      ],
      "metadata": {
        "id": "zms12Yq5n-jE"
      },
      "execution_count": null,
      "outputs": []
    },
    {
      "cell_type": "markdown",
      "source": [
        "## 3. ***Data Wrangling***"
      ],
      "metadata": {
        "id": "dauF4eBmngu3"
      }
    },
    {
      "cell_type": "markdown",
      "source": [
        "### Data Wrangling Code"
      ],
      "metadata": {
        "id": "bKJF3rekwFvQ"
      }
    },
    {
      "cell_type": "code",
      "source": [
        "# Write your code to make your dataset analysis ready.\n",
        "# Eliminating Null Values\n",
        "df['director'] = df['director'].fillna(\"Not Available\") # For director column which has 2389 Null values\n",
        "df['cast'] = df['cast'].fillna(\"Not Available\") # For cast column which has 718 Null values\n",
        "df['country'] = df['country'].fillna(\"Unknown\") # For country column which has 507 Null values\n",
        "df['date_added'] = df['date_added'].fillna(\"ffill\") # For date_added column which has 10 NUll values\n",
        "df['rating'] = df['rating'].fillna(df['rating'].mode()[0]) # For rating column which has 7 Null values\n",
        "df.isnull().sum()"
      ],
      "metadata": {
        "id": "wk-9a2fpoLcV"
      },
      "execution_count": null,
      "outputs": []
    },
    {
      "cell_type": "markdown",
      "source": [
        "### What all manipulations have you done and insights you found?"
      ],
      "metadata": {
        "id": "MSa1f5Uengrz"
      }
    },
    {
      "cell_type": "markdown",
      "source": [
        "1. **No duplicate entries:** All records are unique.\n",
        "2.**Missing values handled:** Using replacement or forward fill to eliminate missing values.\n",
        "3. Prepared the **date_added** column for trend analysis by converting it to year-month format."
      ],
      "metadata": {
        "id": "LbyXE7I1olp8"
      }
    },
    {
      "cell_type": "markdown",
      "source": [
        "## ***4. Data Vizualization, Storytelling & Experimenting with charts : Understand the relationships between variables***"
      ],
      "metadata": {
        "id": "GF8Ens_Soomf"
      }
    },
    {
      "cell_type": "markdown",
      "source": [
        "#### Chart - 1"
      ],
      "metadata": {
        "id": "0wOQAZs5pc--"
      }
    },
    {
      "cell_type": "code",
      "source": [
        "# Chart - 1 Content Rating Distribution: TV Shows vs Movies\n",
        "rating_count = df.groupby('type')['rating'].value_counts().unstack(fill_value=0)\n",
        "rating_count.plot(kind='barh', figsize=(10, 8), stacked=True, color=plt.cm.Paired.colors)\n",
        "plt.title('Rating Distribution: TV Shows vs Movies')\n",
        "plt.xlabel('Count')\n",
        "plt.ylabel('Rating')\n",
        "plt.legend(title='Type')\n",
        "plt.show()\n",
        "print(rating_count)\n"
      ],
      "metadata": {
        "id": "7v_ESjsspbW7"
      },
      "execution_count": null,
      "outputs": []
    },
    {
      "cell_type": "markdown",
      "source": [
        "##### 1. Why did you pick the specific chart?"
      ],
      "metadata": {
        "id": "K5QZ13OEpz2H"
      }
    },
    {
      "cell_type": "markdown",
      "source": [
        "I chose a **Bar Chart** because it's ideal for comparing the frequency of\n",
        " different categories of ratings (e.g., TV-MA, PG-13, R, etc.). It clearly shows the distribution of ratings in the dataset, which helps in understanding the nature of the content and the target audience.\n",
        "\n"
      ],
      "metadata": {
        "id": "XESiWehPqBRc"
      }
    },
    {
      "cell_type": "markdown",
      "source": [
        "##### 2. What is/are the insight(s) found from the analysis?\n"
      ],
      "metadata": {
        "id": "lQ7QKXXCp7Bj"
      }
    },
    {
      "cell_type": "markdown",
      "source": [
        "The analysis of the rating distribution reveals that the majority of content on **Netflix** is focused on  mature audiences, with TV-MA and TV-14 being the most frequent ratings. This suggests a strong focus on adult viewers, particularly in TV shows.On the other hand, movies tend to be more evenly spread across ratings like PG, PG-13, and R, showing a slightly broader target audience. Additionally, ratings such as NC-17, TV-Y7-FV, and UR appear very infrequently, indicating limited content for very young children or highly explicit categories. Overall, the platform's content strategy seems to prioritize mature and teen-friendly material, especially through television series."
      ],
      "metadata": {
        "id": "C_j1G7yiqdRP"
      }
    },
    {
      "cell_type": "markdown",
      "source": [
        "##### 3. Will the gained insights help creating a positive business impact?\n",
        "Are there any insights that lead to negative growth? Justify with specific reason."
      ],
      "metadata": {
        "id": "448CDAPjqfQr"
      }
    },
    {
      "cell_type": "markdown",
      "source": [
        "Yes, the insights can help in creating a positive business impact.\n",
        "\n",
        "1. Targeted Content Strategy:\n",
        "\n",
        "Knowing the dominant content ratings allows Netflix to continue investing in content that resonates with its most active viewer segments. Producing more mature content such as dramas, thrillers, or crime series rated TV-MA can lead to higher engagement.\n",
        "\n",
        "2. Improved Marketing and Advertising:\n",
        "\n",
        "By understanding that the primary audience is mature, Netflix can tailor its advertising campaigns more effectively and accordingly.\n",
        "\n",
        "3. Recommendation System:\n",
        "\n",
        "Insights from rating distributions can help in content suggestion. Recommending content aligned with the viewers preferences can improve user experience, boost viewing time, and reduce  customer churn."
      ],
      "metadata": {
        "id": "3cspy4FjqxJW"
      }
    },
    {
      "cell_type": "markdown",
      "source": [
        "#### Chart - 2"
      ],
      "metadata": {
        "id": "KSlN3yHqYklG"
      }
    },
    {
      "cell_type": "code",
      "source": [
        "# Chart - 2 Distribution of All Genres in the Dataset\n",
        "df['genres'] = df['listed_in'].str.split(',')\n",
        "df['genres'] = df['genres'].apply(lambda x: [genre.strip() for genre in x])\n",
        "genres_series = df['genres'].explode()\n",
        "genre_counts = genres_series.value_counts()\n",
        "genre_counts.plot(kind='barh', figsize=(10, 11), color='skyblue')\n",
        "plt.title('Distribution of All Genres in the Dataset')\n",
        "plt.xlabel('Count')\n",
        "plt.ylabel('Genres')\n",
        "plt.show()"
      ],
      "metadata": {
        "id": "R4YgtaqtYklH"
      },
      "execution_count": null,
      "outputs": []
    },
    {
      "cell_type": "markdown",
      "source": [
        "##### 1. Why did you pick the specific chart?"
      ],
      "metadata": {
        "id": "t6dVpIINYklI"
      }
    },
    {
      "cell_type": "markdown",
      "source": [
        "A horizontal bar chart works well when dealing with many categories of genres. It avoids clutter and helps compare counts effectively."
      ],
      "metadata": {
        "id": "5aaW0BYyYklI"
      }
    },
    {
      "cell_type": "markdown",
      "source": [
        "##### 2. What is/are the insight(s) found from the chart?"
      ],
      "metadata": {
        "id": "ijmpgYnKYklI"
      }
    },
    {
      "cell_type": "markdown",
      "source": [
        "1. A few genres like International Movies, Dramas, Comedies have very high counts, while many others like LGBTQ Movies, Cult TV, Science & Nature TV have very low presence.\n",
        "\n",
        "2. Netflix seems to rely heavily on a few core genres, like Dramas, Comedies, Documnetaries because they attract broad audiences and they are likely key revenue drivers."
      ],
      "metadata": {
        "id": "PSx9atu2YklI"
      }
    },
    {
      "cell_type": "markdown",
      "source": [
        "##### 3. Will the gained insights help creating a positive business impact?\n",
        "Are there any insights that lead to negative growth? Justify with specific reason."
      ],
      "metadata": {
        "id": "-JiQyfWJYklI"
      }
    },
    {
      "cell_type": "markdown",
      "source": [
        "The dominance of genres like International Movies, Dramas, and Comedies demonstrates viewer preference.\n",
        "\n",
        "**Positive Business Impact:** Netflix can foucus on top-performing genres, create region-specific subgenres, and fine-tune its recommendation engine. This will enhance user satisfaction and time spent on the platform.\n",
        "\n",
        "**Risk Area:** Underrepresented genres such as Faith & Spirituality or Classic TV may indicate neglected  audiences. Ignoring these could lead to market segments being underserved and viewers migrating to competitors who fill those gaps.\n",
        "\n",
        "\n",
        "\n"
      ],
      "metadata": {
        "id": "BcBbebzrYklV"
      }
    },
    {
      "cell_type": "markdown",
      "source": [
        "#### Chart - 3"
      ],
      "metadata": {
        "id": "EM7whBJCYoAo"
      }
    },
    {
      "cell_type": "code",
      "source": [
        "# Chart - 3 Yearly Trend of Netflix Content Additions\n"
      ],
      "metadata": {
        "id": "t6GMdE67YoAp"
      },
      "execution_count": null,
      "outputs": []
    },
    {
      "cell_type": "markdown",
      "source": [
        "##### 1. Why did you pick the specific chart?"
      ],
      "metadata": {
        "id": "fge-S5ZAYoAp"
      }
    },
    {
      "cell_type": "markdown",
      "source": [
        "A line chart effectively shows how the number of releases changes over time. It's ideal for observing trends, peaks, and drops in content production."
      ],
      "metadata": {
        "id": "5dBItgRVYoAp"
      }
    },
    {
      "cell_type": "markdown",
      "source": [
        "##### 2. What is/are the insight(s) found from the chart?"
      ],
      "metadata": {
        "id": "85gYPyotYoAp"
      }
    },
    {
      "cell_type": "markdown",
      "source": [
        "1. There's a massive spike in content from around 2015 to 2020, because of  Netflix’s international expansion.\n",
        "\n",
        "2. The sharp drop after 2020 could be because of limitation of data or because of COVID-19.\n",
        "\n",
        "3. Before 2000, very little content was added, meaning that most content is recent."
      ],
      "metadata": {
        "id": "4jstXR6OYoAp"
      }
    },
    {
      "cell_type": "markdown",
      "source": [
        "##### 3. Will the gained insights help creating a positive business impact?\n",
        "Are there any insights that lead to negative growth? Justify with specific reason."
      ],
      "metadata": {
        "id": "RoGjAbkUYoAp"
      }
    },
    {
      "cell_type": "markdown",
      "source": [
        "This chart reveals a growth in content additions post-2015, peak  in 2019. It validates Netflix’s aggressive content strategy and streaming dominance in recent years.\n",
        "\n",
        "**Positive Business Impact:** The surge in content around 2018–2019 coincides with global subscriber growth, suggesting that content volume drives user acquisition. Insights from this can guide future content ramp-ups and platform scheduling.\n",
        "\n",
        " **Negative Growth Concern:** The sharp drop after 2019, especially in 2020 may signal impacts from the COVID-19 pandemic or slowed content investment. If not addressed, this could reduce engagement over time, requiring strategic planning to maintain content flow."
      ],
      "metadata": {
        "id": "zfJ8IqMcYoAp"
      }
    },
    {
      "cell_type": "markdown",
      "source": [
        "#### Chart - 4"
      ],
      "metadata": {
        "id": "4Of9eVA-YrdM"
      }
    },
    {
      "cell_type": "code",
      "source": [
        "# Chart - 4 Top 10 Acotrs/Actresses on Netflix\n",
        "df_cast = df[['cast']].copy()\n",
        "df_cast['cast']= df_cast['cast'].str.split(',').apply(lambda x: [actor.strip() for actor in x])\n",
        "df_exploded = df_cast.explode('cast')\n",
        "df_exploded = df_exploded[df_exploded['cast'] != 'Not Available']\n",
        "top_actors = df_exploded['cast'].value_counts().head(10)\n",
        "top_actors.plot(kind='bar', figsize=(10,5), color='skyblue')\n",
        "plt.title(\"Top 10 Actors/Actresses on Netflix\")\n",
        "plt.xlabel(\"Actor/Actress\")\n",
        "plt.ylabel(\"Number of Appearances\")\n",
        "plt.xticks(rotation=45)\n",
        "plt.grid(axis='y')\n",
        "plt.tight_layout()\n",
        "plt.show()\n"
      ],
      "metadata": {
        "id": "irlUoxc8YrdO"
      },
      "execution_count": null,
      "outputs": []
    },
    {
      "cell_type": "markdown",
      "source": [
        "##### 1. Why did you pick the specific chart?"
      ],
      "metadata": {
        "id": "iky9q4vBYrdO"
      }
    },
    {
      "cell_type": "markdown",
      "source": [
        "A bar chart is ideal for comparing discrete categories (in this case, actors) based on a count metric. It's easy to see who appears most frequently, making it the best choice for this type of ranking."
      ],
      "metadata": {
        "id": "aJRCwT6DYrdO"
      }
    },
    {
      "cell_type": "markdown",
      "source": [
        "##### 2. What is/are the insight(s) found from the chart?"
      ],
      "metadata": {
        "id": "F6T5p64dYrdO"
      }
    },
    {
      "cell_type": "markdown",
      "source": [
        "1. Anupam Kher leads significantly in Netflix appearances, followed by Shah Rukh Khan.\n",
        "\n",
        "2. The chart shows a strong representation of Indian actors, indicating Netflix has a large library of Indian content.\n"
      ],
      "metadata": {
        "id": "Xx8WAJvtYrdO"
      }
    },
    {
      "cell_type": "markdown",
      "source": [
        "##### 3. Will the gained insights help creating a positive business impact?\n",
        "Are there any insights that lead to negative growth? Justify with specific reason."
      ],
      "metadata": {
        "id": "y-Ehk30pYrdP"
      }
    },
    {
      "cell_type": "markdown",
      "source": [
        "This chart highlights the most featured actors which indicates talent  and viewer preferences. Actors like **Anupam Kher** and **Shah Rukh Khan** being frequently featured, reflect Netflix’s deep focus on Indian cinema.\n",
        "\n",
        " **Positive Business Impact:** Recognizing which actors consistently draw viewers allows Netflix to give exclusive contracts, boosting subscriber retention in specific regions.\n",
        "\n",
        " **Negative Growth Risk:** If focus is too high on a few familiar faces, it may limit experimentation and innovation in casting, possibly limit users looking for fresh talent or diverse representation."
      ],
      "metadata": {
        "id": "jLNxxz7MYrdP"
      }
    },
    {
      "cell_type": "markdown",
      "source": [
        "#### Chart - 5"
      ],
      "metadata": {
        "id": "bamQiAODYuh1"
      }
    },
    {
      "cell_type": "code",
      "source": [
        "# Chart -5 Top 10 Countries producing Content\n",
        "df['countries_count'] = df['country'].str.split(',').apply(lambda x: [country.strip() for country in x])\n",
        "countries_counts = df['countries_count'].explode()\n",
        "countries_counts = countries_counts.value_counts()\n",
        "top_countries = countries_counts.head(10)\n",
        "top_countries.plot(kind='pie',figsize=(10, 10), autopct='%1.1f%%', startangle=140, colors=plt.cm.Paired.colors)\n",
        "plt.title('Top 10 Countries Producing Content')\n",
        "plt.show()"
      ],
      "metadata": {
        "id": "TIJwrbroYuh3"
      },
      "execution_count": null,
      "outputs": []
    },
    {
      "cell_type": "markdown",
      "source": [
        "##### 1. Why did you pick the specific chart?"
      ],
      "metadata": {
        "id": "QHF8YVU7Yuh3"
      }
    },
    {
      "cell_type": "markdown",
      "source": [
        "1. Pie chart was chosen for a clear, percentage-based view.\n",
        "\n",
        "2. Easy to explain to non-technical audiences."
      ],
      "metadata": {
        "id": "dcxuIMRPYuh3"
      }
    },
    {
      "cell_type": "markdown",
      "source": [
        "##### 2. What is/are the insight(s) found from the chart?"
      ],
      "metadata": {
        "id": "GwzvFGzlYuh3"
      }
    },
    {
      "cell_type": "markdown",
      "source": [
        "1. US dominates the platform with 45.8%.\n",
        "\n",
        "2. India and UK follow as significant contributors with 13.8% and 10.1% respectively."
      ],
      "metadata": {
        "id": "uyqkiB8YYuh3"
      }
    },
    {
      "cell_type": "markdown",
      "source": [
        "##### 3. Will the gained insights help creating a positive business impact?\n",
        "Are there any insights that lead to negative growth? Justify with specific reason."
      ],
      "metadata": {
        "id": "qYpmQ266Yuh3"
      }
    },
    {
      "cell_type": "markdown",
      "source": [
        "The insight that the United States leads Netflix content production, followed by India and the United Kingdom, confirms the platform's focus on English-speaking and high-population markets.\n",
        "\n",
        " **Positive Business Impact:** It helps Netflix allocate budgets strategically—invest more in content creation in countries with proven performance, and expand original productions in emerging markets like India.\n",
        "\n",
        "**Potential Negative Insight:** Over-reliance on U.S. content (45.8%) might limit cultural diversity, leading to viewer fatigue in international markets. A more balanced regional content mix could improve global engagement."
      ],
      "metadata": {
        "id": "_WtzZ_hCYuh4"
      }
    },
    {
      "cell_type": "markdown",
      "source": [
        "#### Chart - 6"
      ],
      "metadata": {
        "id": "OH-pJp9IphqM"
      }
    },
    {
      "cell_type": "code",
      "source": [
        "# Chart - 6 visualization code\n",
        "df['countries'] = df['country'].str.split(',').apply(lambda x: [country.strip() for country in x])\n",
        "df['genres'] = df['listed_in'].str.split(',').apply(lambda x: [listed_in.strip() for listed_in in x])\n",
        "df_exploded = df.explode('countries').explode('genres')\n",
        "top_countries = df_exploded['countries'].value_counts().head(10).index\n",
        "top_genres = df_exploded['genres'].value_counts().head(10).index\n",
        "df_filtered = df_exploded[df_exploded['countries'].isin(top_countries) & df_exploded['genres'].isin(top_genres)]\n",
        "heatmap_data = df_filtered.groupby(['genres', 'countries']).size().unstack()\n",
        "plt.figure(figsize=(12, 8))\n",
        "sns.heatmap(heatmap_data, annot=True, cmap='YlGnBu', fmt='g')\n",
        "plt.title('Genre Distribution by Top 10 Countries')\n",
        "plt.xlabel('Country')\n",
        "plt.ylabel('Genre')\n",
        "plt.tight_layout()\n",
        "plt.show()"
      ],
      "metadata": {
        "id": "kuRf4wtuphqN"
      },
      "execution_count": null,
      "outputs": []
    },
    {
      "cell_type": "markdown",
      "source": [
        "##### 1. Why did you pick the specific chart?"
      ],
      "metadata": {
        "id": "bbFf2-_FphqN"
      }
    },
    {
      "cell_type": "markdown",
      "source": [
        "1. Identify country-specific genre preferences.\n",
        "\n",
        "2. Heatmap gives quick visual of quantity."
      ],
      "metadata": {
        "id": "loh7H2nzphqN"
      }
    },
    {
      "cell_type": "markdown",
      "source": [
        "##### 2. What is/are the insight(s) found from the chart?"
      ],
      "metadata": {
        "id": "_ouA3fa0phqN"
      }
    },
    {
      "cell_type": "markdown",
      "source": [
        "1. US produces most of the content on the platform and the most dominant  genre are Dramas, Comedies, Documentries, etc.\n",
        "\n",
        "2. India also produces large content and the most popular geners are International Movies, Comedies, Dramas."
      ],
      "metadata": {
        "id": "VECbqPI7phqN"
      }
    },
    {
      "cell_type": "markdown",
      "source": [
        "##### 3. Will the gained insights help creating a positive business impact?\n",
        "Are there any insights that lead to negative growth? Justify with specific reason."
      ],
      "metadata": {
        "id": "Seke61FWphqN"
      }
    },
    {
      "cell_type": "markdown",
      "source": [
        "This heatmap enables precise regional content planning. Knowing that Indian users prefer Dramas and International Movies while the US leans toward Comedies and Documentaries empowers Netflix to tailor regional libraries. It directly supports global growth and localized user engagement. If such data is ignored, Netflix risks content mismatch, leading to user churn  but this chart helps prevent that."
      ],
      "metadata": {
        "id": "DW4_bGpfphqN"
      }
    },
    {
      "cell_type": "markdown",
      "source": [
        "#### Chart - 7"
      ],
      "metadata": {
        "id": "PIIx-8_IphqN"
      }
    },
    {
      "cell_type": "code",
      "source": [
        "# Chart - 7 Duration distribution per genre(Movies).\n",
        "movies_df = df[df['type'] == 'Movie'].copy()\n",
        "movies_df['duration'] = movies_df['duration'].str.extract('(\\d+)').astype(int)\n",
        "movies_df['genres'] = movies_df['listed_in'].str.split(',').apply(lambda x: [genre.strip() for genre in x])\n",
        "movies_explode = movies_df.explode('genres')\n",
        "top_genres= movies_explode['genres'].value_counts().head(10).index\n",
        "movies_explode = movies_explode[movies_explode['genres'].isin(top_genres)]\n",
        "sns.boxplot(x='genres', y='duration', data=movies_explode)\n",
        "plt.xticks(rotation=45)\n",
        "plt.title('Duration by Genre (Movies)')\n",
        "plt.tight_layout()\n",
        "plt.show()\n"
      ],
      "metadata": {
        "id": "lqAIGUfyphqO"
      },
      "execution_count": null,
      "outputs": []
    },
    {
      "cell_type": "markdown",
      "source": [
        "##### 1. Why did you pick the specific chart?"
      ],
      "metadata": {
        "id": "t27r6nlMphqO"
      }
    },
    {
      "cell_type": "markdown",
      "source": [
        "1. Box plots show spread, median, and outliers these are very useful for duration analysis.\n",
        "\n",
        "2. Best for comparing genres side-by-side."
      ],
      "metadata": {
        "id": "iv6ro40sphqO"
      }
    },
    {
      "cell_type": "markdown",
      "source": [
        "##### 2. What is/are the insight(s) found from the chart?"
      ],
      "metadata": {
        "id": "r2jJGEOYphqO"
      }
    },
    {
      "cell_type": "markdown",
      "source": [
        "1. Dramas and International Movies have longer durations on average.\n",
        "\n",
        "2. Comedy and similar genres are shorter and tighter in range."
      ],
      "metadata": {
        "id": "Po6ZPi4hphqO"
      }
    },
    {
      "cell_type": "markdown",
      "source": [
        "##### 3. Will the gained insights help creating a positive business impact?\n",
        "Are there any insights that lead to negative growth? Justify with specific reason."
      ],
      "metadata": {
        "id": "b0JNsNcRphqO"
      }
    },
    {
      "cell_type": "markdown",
      "source": [
        "This chart helps refine user recommendations and content packaging. For example, users preferring quick entertainment can be directed toward Comedies, while those looking for deeper stories may enjoy Dramas or Documentaries. This promotes user satisfaction and increases watch time. No negative trend is identified, but genres with extremely high duration variance may confuse audiences unless clearly labeled or segmented."
      ],
      "metadata": {
        "id": "xvSq8iUTphqO"
      }
    },
    {
      "cell_type": "markdown",
      "source": [
        "#### Chart - 8"
      ],
      "metadata": {
        "id": "BZR9WyysphqO"
      }
    },
    {
      "cell_type": "code",
      "source": [
        "# Chart 8 Top 10 Directors on Netflix\n",
        "df_directors = df[['director']].copy()\n",
        "df_directors['director'] = df_directors['director'].str.split(',')\n",
        "df_exploded = df_directors.explode('director')\n",
        "df_exploded = df_exploded[df_exploded['director'] != 'Not Available']\n",
        "top_directors = df_exploded['director'].value_counts().head(10)\n",
        "top_directors.plot(kind='barh', figsize=(10,6), color='orange')\n",
        "plt.title(\"Top 10 Directors on Netflix\")\n",
        "plt.xlabel(\"Number of Movies or Shows\")\n",
        "plt.ylabel(\"Director\")\n",
        "plt.gca().invert_yaxis()\n",
        "plt.tight_layout\n",
        "plt.show()"
      ],
      "metadata": {
        "id": "TdPTWpAVphqO"
      },
      "execution_count": null,
      "outputs": []
    },
    {
      "cell_type": "markdown",
      "source": [
        "##### 1. Why did you pick the specific chart?"
      ],
      "metadata": {
        "id": "jj7wYXLtphqO"
      }
    },
    {
      "cell_type": "markdown",
      "source": [
        "1. To spotlight key director or content creators on the platform.\n",
        "\n",
        "2. Horizontal bars are easier to read for names."
      ],
      "metadata": {
        "id": "Ob8u6rCTphqO"
      }
    },
    {
      "cell_type": "markdown",
      "source": [
        "##### 2. What is/are the insight(s) found from the chart?"
      ],
      "metadata": {
        "id": "eZrbJ2SmphqO"
      }
    },
    {
      "cell_type": "markdown",
      "source": [
        "1. Certain directors have a significantly higher presence.\n",
        "\n",
        "2. Repeated collaborations visible like Jan Suter and  Raúl Campos."
      ],
      "metadata": {
        "id": "mZtgC_hjphqO"
      }
    },
    {
      "cell_type": "markdown",
      "source": [
        "##### 3. Will the gained insights help creating a positive business impact?\n",
        "Are there any insights that lead to negative growth? Justify with specific reason."
      ],
      "metadata": {
        "id": "rFu4xreNphqO"
      }
    },
    {
      "cell_type": "markdown",
      "source": [
        "Identifying top-performing directors helps Netflix strengthen existing collaborations or seek exclusive deals. Directors like Jan Suter and Raúl Campos having frequent entries may point toward content styles or genres that perform well. This supports a positive business impact by optimizing partnerships and maintaining consistent quality. However, over-reliance on a narrow set of creators could limit diversity and global appeal, so maintaining balance is key."
      ],
      "metadata": {
        "id": "ey_0qi68phqO"
      }
    },
    {
      "cell_type": "markdown",
      "source": [
        "#### Chart - 9"
      ],
      "metadata": {
        "id": "YJ55k-q6phqO"
      }
    },
    {
      "cell_type": "code",
      "source": [
        "# Chart - 9 Monthly Trend Of  Content Addition\n",
        "df['date_added'] = pd.to_datetime(df['date_added']).copy()\n",
        "df['month_added'] = df['date_added'].dt.month_name()\n",
        "monthly_counts = df['month_added'].value_counts().reindex([\n",
        "    'January', 'February', 'March', 'April', 'May', 'June',\n",
        "    'July', 'August', 'September', 'October', 'November', 'December'])\n",
        "plt.figure(figsize=(10,5))\n",
        "monthly_counts.plot(kind='line', marker='o', color='green')\n",
        "plt.title(\"Monthly Trend of  Content Addition\")\n",
        "plt.xlabel(\"Month\")\n",
        "plt.ylabel(\"Number of Tv Shows Or Movies Added Added\")\n",
        "plt.grid(True)\n",
        "plt.tight_layout()\n",
        "plt.show()\n"
      ],
      "metadata": {
        "id": "B2aS4O1ophqO"
      },
      "execution_count": null,
      "outputs": []
    },
    {
      "cell_type": "markdown",
      "source": [
        "##### 1. Why did you pick the specific chart?"
      ],
      "metadata": {
        "id": "gCFgpxoyphqP"
      }
    },
    {
      "cell_type": "markdown",
      "source": [
        "1. Reveals seasonal patterns in content addition.\n",
        "\n",
        "2. This chart type presents sequential values to help you identify trends.\n",
        "\n",
        "3. Simple line chart to highlight monthly behavior."
      ],
      "metadata": {
        "id": "TVxDimi2phqP"
      }
    },
    {
      "cell_type": "markdown",
      "source": [
        "##### 2. What is/are the insight(s) found from the chart?"
      ],
      "metadata": {
        "id": "OVtJsKN_phqQ"
      }
    },
    {
      "cell_type": "markdown",
      "source": [
        "1. Netflix adds more content in the last few months of the year (Oct–Dec).\n",
        "\n",
        "2. Huge dip in Feb may be because of shorter month."
      ],
      "metadata": {
        "id": "ngGi97qjphqQ"
      }
    },
    {
      "cell_type": "markdown",
      "source": [
        "##### 3. Will the gained insights help creating a positive business impact?\n",
        "Are there any insights that lead to negative growth? Justify with specific reason."
      ],
      "metadata": {
        "id": "lssrdh5qphqQ"
      }
    },
    {
      "cell_type": "markdown",
      "source": [
        "The monthly trend analysis offers operational value in aligning promotions and new releases with high-engagement months like October–December. This insight enables better resource allocation in marketing and platform updates. The dip in February may indicate a missed opportunity or planned seasonal downtime, but it’s not a negative indicator unless it consistently shows underperformance. Strategically using this insight can drive monthly user spikes, especially during holiday seasons."
      ],
      "metadata": {
        "id": "tBpY5ekJphqQ"
      }
    },
    {
      "cell_type": "markdown",
      "source": [
        "#### Chart - 10"
      ],
      "metadata": {
        "id": "U2RJ9gkRphqQ"
      }
    },
    {
      "cell_type": "code",
      "source": [
        "# Chart - 10 Content Release Year vs Type(Movies vs TV Shows)\n",
        "plt.figure(figsize=(10, 6))\n",
        "df_filtered = df[df['release_year'] >= 1980]\n",
        "sns.countplot(data=df_filtered, x='release_year', hue='type', palette='Set1')\n",
        "plt.title(\"Content Release Year vs Type (Movies vs TV Shows)\")\n",
        "plt.xlabel(\"Release Year\")\n",
        "plt.ylabel(\"Number of TV Shows And Movies\")\n",
        "plt.xticks(rotation=45)\n",
        "plt.legend(title=\"Type\")\n",
        "plt.tight_layout()\n",
        "plt.show()\n"
      ],
      "metadata": {
        "id": "GM7a4YP4phqQ"
      },
      "execution_count": null,
      "outputs": []
    },
    {
      "cell_type": "markdown",
      "source": [
        "##### 1. Why did you pick the specific chart?"
      ],
      "metadata": {
        "id": "1M8mcRywphqQ"
      }
    },
    {
      "cell_type": "markdown",
      "source": [
        "1. It clearly shows the volume of the content types through the years.\n",
        "\n",
        "2.  It is ideal for showcasing Netflix's production trends."
      ],
      "metadata": {
        "id": "8agQvks0phqQ"
      }
    },
    {
      "cell_type": "markdown",
      "source": [
        "##### 2. What is/are the insight(s) found from the chart?"
      ],
      "metadata": {
        "id": "tgIPom80phqQ"
      }
    },
    {
      "cell_type": "markdown",
      "source": [
        "1. There is a massive spike in Movies after 2015 and a huge dip after 2019 may be because of Covid-19.\n",
        "\n",
        "2. TV Shows were grew gradually, but there is also huge deep post 2018."
      ],
      "metadata": {
        "id": "Qp13pnNzphqQ"
      }
    },
    {
      "cell_type": "markdown",
      "source": [
        "##### 3. Will the gained insights help creating a positive business impact?\n",
        "Are there any insights that lead to negative growth? Justify with specific reason."
      ],
      "metadata": {
        "id": "JMzcOPDDphqR"
      }
    },
    {
      "cell_type": "markdown",
      "source": [
        "This visualization clearly showcases Netflix’s heavy focus on Movie production post-2015, with TV Shows catching up steadily. This data can guide content strategy — for example, investing more in original series if growth in TV Show consumption continues. This trend supports business growth by validating Netflix’s strategic shift. No negative impact is inferred, but overproduction of movies without considering audience saturation could be a risk in the long term.\n",
        "\n"
      ],
      "metadata": {
        "id": "R4Ka1PC2phqR"
      }
    },
    {
      "cell_type": "markdown",
      "source": [
        "#### Chart - 11 - Correlation Heatmap"
      ],
      "metadata": {
        "id": "NC_X3p0fY2L0"
      }
    },
    {
      "cell_type": "code",
      "source": [
        "# Correlation Heatmap visualization code\n",
        "# Make sure numeric features exist\n",
        "df['duration_int'] = df['duration'].str.extract('(\\d+)').astype(float)\n",
        "corr_df = df[['release_year', 'duration_int']]\n",
        "corr = corr_df.corr()\n",
        "plt.figure(figsize=(8, 6))\n",
        "sns.heatmap(corr, annot=True, cmap='coolwarm', linewidths=0.5)\n",
        "plt.title('Correlation Heatmap of Content relased per year Vs Duration')\n",
        "plt.show()"
      ],
      "metadata": {
        "id": "xyC9zolEZNRQ"
      },
      "execution_count": null,
      "outputs": []
    },
    {
      "cell_type": "markdown",
      "source": [
        "##### 1. Why did you pick the specific chart?"
      ],
      "metadata": {
        "id": "UV0SzAkaZNRQ"
      }
    },
    {
      "cell_type": "markdown",
      "source": [
        "1. Correlation heatmaps are a quick way to analyze how relatable are the numerical features of a dataset.\n",
        "\n",
        "2. Chosen to verify whether newer content is shorter or longer."
      ],
      "metadata": {
        "id": "DVPuT8LYZNRQ"
      }
    },
    {
      "cell_type": "markdown",
      "source": [
        "##### 2. What is/are the insight(s) found from the chart?"
      ],
      "metadata": {
        "id": "YPEH6qLeZNRQ"
      }
    },
    {
      "cell_type": "markdown",
      "source": [
        "1. A  negative correlation (-0.24) which means that new releases tend to be shorter in duration.\n",
        "2. It means that there is a modern shift toward quicker content."
      ],
      "metadata": {
        "id": "bfSqtnDqZNRR"
      }
    },
    {
      "cell_type": "markdown",
      "source": [
        "#### Chart - 12 - Pair Plot"
      ],
      "metadata": {
        "id": "q29F0dvdveiT"
      }
    },
    {
      "cell_type": "code",
      "source": [
        "# Pair Plot visualization code\n",
        "df['duration_int'] = df['duration'].str.extract('(\\d+)').astype(float)\n",
        "df['month_added'] = pd.to_datetime(df['date_added']).dt.month\n",
        "pair = df[['release_year', 'month_added', 'duration_int', 'type']]\n",
        "sns.pairplot(pair, hue='type', palette='Set2')\n",
        "plt.suptitle(\"Netflix Pair Plot: Release, Added Month & Duration\", y=1.02)\n",
        "plt.show()"
      ],
      "metadata": {
        "id": "o58-TEIhveiU"
      },
      "execution_count": null,
      "outputs": []
    },
    {
      "cell_type": "markdown",
      "source": [
        "##### 1. Why did you pick the specific chart?"
      ],
      "metadata": {
        "id": "EXh0U9oCveiU"
      }
    },
    {
      "cell_type": "markdown",
      "source": [
        "1.  Because it shows multiple relationships in one view: duration, release year, and month of addition.\n",
        "\n",
        "2. Chosen to explore  patterns between Movies and TV Shows."
      ],
      "metadata": {
        "id": "eMmPjTByveiU"
      }
    },
    {
      "cell_type": "markdown",
      "source": [
        "##### 2. What is/are the insight(s) found from the chart?"
      ],
      "metadata": {
        "id": "22aHeOlLveiV"
      }
    },
    {
      "cell_type": "markdown",
      "source": [
        "1. Most content has been released after the year 2000.\n",
        "\n",
        "2. Most of the content is added during the last month of the year."
      ],
      "metadata": {
        "id": "uPQ8RGwHveiV"
      }
    },
    {
      "cell_type": "markdown",
      "source": [
        "## **5. Solution to Business Objective**"
      ],
      "metadata": {
        "id": "JcMwzZxoAimU"
      }
    },
    {
      "cell_type": "markdown",
      "source": [
        "#### What do you suggest the client to achieve Business Objective ?\n",
        "1. **Prioritize Shorter, High-Impact Content:** With modern content trending shorter, Netflix can evolve to audience preferences by focusing on high-quality, time-efficient formats, especially for mobile and younger users.\n",
        "\n",
        "2. **Release Strategy Optimization:** Capitalize on high-performing months (Oct–Dec) for major releases and marketing campaigns.\n",
        "\n",
        "3. Continue investment in TV Shows as their growth trend suggests strong future engagement.\n",
        "\n",
        "4. **Use Popular Talent and Genres:** Prioritize projects featuring top-performing actors and directors, especially in drama, comedy, and international movie genres, which will lead to highest engagement possible.\n",
        "\n",
        "5. Develop and promote  genres (e.g., classic TV, stand-up comedy, spiritual content) to catch to micro-audiences, enhancing viewer diversity and long-tail value."
      ],
      "metadata": {
        "id": "8G2x9gOozGDZ"
      }
    },
    {
      "cell_type": "markdown",
      "source": [
        "Answer Here."
      ],
      "metadata": {
        "id": "pASKb0qOza21"
      }
    },
    {
      "cell_type": "markdown",
      "source": [
        "# **Conclusion**"
      ],
      "metadata": {
        "id": "gCX9965dhzqZ"
      }
    },
    {
      "cell_type": "markdown",
      "source": [
        "\n",
        "In this project, I conducted a  exploratory data analysis (EDA) on Netflix's global content dataset to uncover meaningful business insights. The dataset initially required s data wrangling, including handling missing values (e.g., in director, cast, date_added), correcting data types (e.g., converting duration and date_added), and filtering relevant information for trend analysis. Once cleaned, the dataset was prepared for structured, meaningful visual exploration.\n",
        "\n",
        "Through 12 diverse and insightful visualizations, I analyzed content trends by type, genre, duration, country, director, actor, and time, helping to uncover key patterns:\n",
        "\n",
        "Movies dominate Netflix’s content, but TV shows have been rising sharply since 2018.\n",
        "\n",
        "Certain months (Oct–Dec) show higher content additions, suggesting seasonal patterns.\n",
        "\n",
        "Shorter content formats are becoming more common in newer releases, especially for mobile-first audiences.\n",
        "\n",
        "India, US, and UK are the top producers, each with distinct genre preferences (e.g., Dramas in India, Comedies in the US).\n",
        "\n",
        "Frequent appearances by specific actors and directors point to strong creative partnerships that can be leveraged further.\n",
        "\n",
        "Top genres vary by country, enabling region-specific content strategies.\n",
        "\n",
        "By integrating these insights, Netflix can optimize:\n",
        "\n",
        "Content planning and release timing\n",
        "\n",
        "Localized marketing\n",
        "\n",
        "Genre-specific production decisions\n",
        "\n",
        "Collaborations with high-performing talent\n",
        "\n",
        "The analysis has successfully transformed raw, unstructured data into business-ready intelligence — giving Netflix a clearer picture of what works, where, and for whom. These insights are not only aligned with the business objective but also scalable across content, marketing, and strategy teams.\n",
        "\n"
      ],
      "metadata": {
        "id": "Fjb1IsQkh3yE"
      }
    }
  ]
}